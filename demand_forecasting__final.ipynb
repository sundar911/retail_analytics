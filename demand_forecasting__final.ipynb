{
  "nbformat": 4,
  "nbformat_minor": 0,
  "metadata": {
    "kernelspec": {
      "display_name": "Python 3",
      "language": "python",
      "name": "python3"
    },
    "language_info": {
      "codemirror_mode": {
        "name": "ipython",
        "version": 3
      },
      "file_extension": ".py",
      "mimetype": "text/x-python",
      "name": "python",
      "nbconvert_exporter": "python",
      "pygments_lexer": "ipython3",
      "version": "3.8.5"
    },
    "colab": {
      "name": "demand_forecasting _final.ipynb",
      "provenance": [],
      "collapsed_sections": [
        "I6_vd7gR5mvI",
        "HZWC_QjL5mvi",
        "kAShdzDj_xX2",
        "_WgQE30zLymh",
        "Bn6KqCrvL2Ej",
        "Oo-uaFUtL6cY",
        "RGfcML44AnY-",
        "Q_z3ky_AMMeH",
        "GLMNJ00CMBtR",
        "gqQoUmBR5mvx"
      ],
      "include_colab_link": true
    }
  },
  "cells": [
    {
      "cell_type": "markdown",
      "metadata": {
        "id": "view-in-github",
        "colab_type": "text"
      },
      "source": [
        "<a href=\"https://colab.research.google.com/github/sundar911/retail_analytics/blob/main/demand_forecasting__final.ipynb\" target=\"_parent\"><img src=\"https://colab.research.google.com/assets/colab-badge.svg\" alt=\"Open In Colab\"/></a>"
      ]
    },
    {
      "cell_type": "code",
      "metadata": {
        "id": "6XxfFDMy5mvE"
      },
      "source": [
        "import pandas as pd\n",
        "import numpy as np\n",
        "import matplotlib.pyplot as plt \n",
        "import seaborn as sns"
      ],
      "execution_count": 1,
      "outputs": []
    },
    {
      "cell_type": "code",
      "metadata": {
        "colab": {
          "base_uri": "https://localhost:8080/"
        },
        "id": "aBCjcNcV81bc",
        "outputId": "d60e8171-1080-48a4-ed9a-6e2a6fee8eec"
      },
      "source": [
        "from google.colab import drive\n",
        "drive.mount('/content/drive')"
      ],
      "execution_count": 2,
      "outputs": [
        {
          "output_type": "stream",
          "text": [
            "Drive already mounted at /content/drive; to attempt to forcibly remount, call drive.mount(\"/content/drive\", force_remount=True).\n"
          ],
          "name": "stdout"
        }
      ]
    },
    {
      "cell_type": "code",
      "metadata": {
        "id": "wMAZA_pe5mvH"
      },
      "source": [
        "df_stores = pd.read_csv('/content/drive/MyDrive/stores data-set.csv')\n",
        "df_features = pd.read_csv('/content/drive/MyDrive/Features data set.csv', parse_dates = ['Date'])\n",
        "df_sales = pd.read_csv('/content/drive/MyDrive/sales data-set.csv', parse_dates = ['Date'])"
      ],
      "execution_count": 3,
      "outputs": []
    },
    {
      "cell_type": "markdown",
      "metadata": {
        "id": "I6_vd7gR5mvI"
      },
      "source": [
        "## Cleaning and preprocessing"
      ]
    },
    {
      "cell_type": "code",
      "metadata": {
        "scrolled": true,
        "id": "hY6YBXG15mvJ",
        "colab": {
          "base_uri": "https://localhost:8080/",
          "height": 198
        },
        "outputId": "608cb0f7-e51f-45d2-818e-7ead96987a2b"
      },
      "source": [
        "df_sales.head()"
      ],
      "execution_count": null,
      "outputs": [
        {
          "output_type": "execute_result",
          "data": {
            "text/html": [
              "<div>\n",
              "<style scoped>\n",
              "    .dataframe tbody tr th:only-of-type {\n",
              "        vertical-align: middle;\n",
              "    }\n",
              "\n",
              "    .dataframe tbody tr th {\n",
              "        vertical-align: top;\n",
              "    }\n",
              "\n",
              "    .dataframe thead th {\n",
              "        text-align: right;\n",
              "    }\n",
              "</style>\n",
              "<table border=\"1\" class=\"dataframe\">\n",
              "  <thead>\n",
              "    <tr style=\"text-align: right;\">\n",
              "      <th></th>\n",
              "      <th>Store</th>\n",
              "      <th>Dept</th>\n",
              "      <th>Date</th>\n",
              "      <th>Weekly_Sales</th>\n",
              "      <th>IsHoliday</th>\n",
              "    </tr>\n",
              "  </thead>\n",
              "  <tbody>\n",
              "    <tr>\n",
              "      <th>0</th>\n",
              "      <td>1</td>\n",
              "      <td>1</td>\n",
              "      <td>2010-05-02</td>\n",
              "      <td>24924.50</td>\n",
              "      <td>False</td>\n",
              "    </tr>\n",
              "    <tr>\n",
              "      <th>1</th>\n",
              "      <td>1</td>\n",
              "      <td>1</td>\n",
              "      <td>2010-12-02</td>\n",
              "      <td>46039.49</td>\n",
              "      <td>True</td>\n",
              "    </tr>\n",
              "    <tr>\n",
              "      <th>2</th>\n",
              "      <td>1</td>\n",
              "      <td>1</td>\n",
              "      <td>2010-02-19</td>\n",
              "      <td>41595.55</td>\n",
              "      <td>False</td>\n",
              "    </tr>\n",
              "    <tr>\n",
              "      <th>3</th>\n",
              "      <td>1</td>\n",
              "      <td>1</td>\n",
              "      <td>2010-02-26</td>\n",
              "      <td>19403.54</td>\n",
              "      <td>False</td>\n",
              "    </tr>\n",
              "    <tr>\n",
              "      <th>4</th>\n",
              "      <td>1</td>\n",
              "      <td>1</td>\n",
              "      <td>2010-05-03</td>\n",
              "      <td>21827.90</td>\n",
              "      <td>False</td>\n",
              "    </tr>\n",
              "  </tbody>\n",
              "</table>\n",
              "</div>"
            ],
            "text/plain": [
              "   Store  Dept       Date  Weekly_Sales  IsHoliday\n",
              "0      1     1 2010-05-02      24924.50      False\n",
              "1      1     1 2010-12-02      46039.49       True\n",
              "2      1     1 2010-02-19      41595.55      False\n",
              "3      1     1 2010-02-26      19403.54      False\n",
              "4      1     1 2010-05-03      21827.90      False"
            ]
          },
          "metadata": {
            "tags": []
          },
          "execution_count": 4
        }
      ]
    },
    {
      "cell_type": "code",
      "metadata": {
        "scrolled": true,
        "id": "XsmXhjEc5mvK",
        "colab": {
          "base_uri": "https://localhost:8080/"
        },
        "outputId": "2286dd4d-10ea-48a0-e9d1-35eca57bb5f7"
      },
      "source": [
        "df_sales.Date.value_counts()"
      ],
      "execution_count": null,
      "outputs": [
        {
          "output_type": "execute_result",
          "data": {
            "text/plain": [
              "2011-12-23    3027\n",
              "2011-11-25    3021\n",
              "2011-12-16    3013\n",
              "2011-09-12    3010\n",
              "2012-02-17    3007\n",
              "              ... \n",
              "2010-09-07    2903\n",
              "2010-08-20    2901\n",
              "2010-07-16    2901\n",
              "2010-08-27    2898\n",
              "2010-08-13    2896\n",
              "Name: Date, Length: 143, dtype: int64"
            ]
          },
          "metadata": {
            "tags": []
          },
          "execution_count": 5
        }
      ]
    },
    {
      "cell_type": "code",
      "metadata": {
        "id": "vitM7esW5mvM",
        "colab": {
          "base_uri": "https://localhost:8080/"
        },
        "outputId": "5b1b5527-204b-4909-9c5a-e44150bb8f36"
      },
      "source": [
        "df_sales.info()"
      ],
      "execution_count": null,
      "outputs": [
        {
          "output_type": "stream",
          "text": [
            "<class 'pandas.core.frame.DataFrame'>\n",
            "RangeIndex: 421570 entries, 0 to 421569\n",
            "Data columns (total 5 columns):\n",
            " #   Column        Non-Null Count   Dtype         \n",
            "---  ------        --------------   -----         \n",
            " 0   Store         421570 non-null  int64         \n",
            " 1   Dept          421570 non-null  int64         \n",
            " 2   Date          421570 non-null  datetime64[ns]\n",
            " 3   Weekly_Sales  421570 non-null  float64       \n",
            " 4   IsHoliday     421570 non-null  bool          \n",
            "dtypes: bool(1), datetime64[ns](1), float64(1), int64(2)\n",
            "memory usage: 13.3 MB\n"
          ],
          "name": "stdout"
        }
      ]
    },
    {
      "cell_type": "code",
      "metadata": {
        "scrolled": true,
        "id": "Lb56D5OA5mvM",
        "colab": {
          "base_uri": "https://localhost:8080/",
          "height": 198
        },
        "outputId": "ae79ce61-4efa-444e-e5ee-c10ca69d656a"
      },
      "source": [
        "df_features.head()"
      ],
      "execution_count": null,
      "outputs": [
        {
          "output_type": "execute_result",
          "data": {
            "text/html": [
              "<div>\n",
              "<style scoped>\n",
              "    .dataframe tbody tr th:only-of-type {\n",
              "        vertical-align: middle;\n",
              "    }\n",
              "\n",
              "    .dataframe tbody tr th {\n",
              "        vertical-align: top;\n",
              "    }\n",
              "\n",
              "    .dataframe thead th {\n",
              "        text-align: right;\n",
              "    }\n",
              "</style>\n",
              "<table border=\"1\" class=\"dataframe\">\n",
              "  <thead>\n",
              "    <tr style=\"text-align: right;\">\n",
              "      <th></th>\n",
              "      <th>Store</th>\n",
              "      <th>Date</th>\n",
              "      <th>Temperature</th>\n",
              "      <th>Fuel_Price</th>\n",
              "      <th>MarkDown1</th>\n",
              "      <th>MarkDown2</th>\n",
              "      <th>MarkDown3</th>\n",
              "      <th>MarkDown4</th>\n",
              "      <th>MarkDown5</th>\n",
              "      <th>CPI</th>\n",
              "      <th>Unemployment</th>\n",
              "      <th>IsHoliday</th>\n",
              "    </tr>\n",
              "  </thead>\n",
              "  <tbody>\n",
              "    <tr>\n",
              "      <th>0</th>\n",
              "      <td>1</td>\n",
              "      <td>2010-05-02</td>\n",
              "      <td>42.31</td>\n",
              "      <td>2.572</td>\n",
              "      <td>NaN</td>\n",
              "      <td>NaN</td>\n",
              "      <td>NaN</td>\n",
              "      <td>NaN</td>\n",
              "      <td>NaN</td>\n",
              "      <td>211.096358</td>\n",
              "      <td>8.106</td>\n",
              "      <td>False</td>\n",
              "    </tr>\n",
              "    <tr>\n",
              "      <th>1</th>\n",
              "      <td>1</td>\n",
              "      <td>2010-12-02</td>\n",
              "      <td>38.51</td>\n",
              "      <td>2.548</td>\n",
              "      <td>NaN</td>\n",
              "      <td>NaN</td>\n",
              "      <td>NaN</td>\n",
              "      <td>NaN</td>\n",
              "      <td>NaN</td>\n",
              "      <td>211.242170</td>\n",
              "      <td>8.106</td>\n",
              "      <td>True</td>\n",
              "    </tr>\n",
              "    <tr>\n",
              "      <th>2</th>\n",
              "      <td>1</td>\n",
              "      <td>2010-02-19</td>\n",
              "      <td>39.93</td>\n",
              "      <td>2.514</td>\n",
              "      <td>NaN</td>\n",
              "      <td>NaN</td>\n",
              "      <td>NaN</td>\n",
              "      <td>NaN</td>\n",
              "      <td>NaN</td>\n",
              "      <td>211.289143</td>\n",
              "      <td>8.106</td>\n",
              "      <td>False</td>\n",
              "    </tr>\n",
              "    <tr>\n",
              "      <th>3</th>\n",
              "      <td>1</td>\n",
              "      <td>2010-02-26</td>\n",
              "      <td>46.63</td>\n",
              "      <td>2.561</td>\n",
              "      <td>NaN</td>\n",
              "      <td>NaN</td>\n",
              "      <td>NaN</td>\n",
              "      <td>NaN</td>\n",
              "      <td>NaN</td>\n",
              "      <td>211.319643</td>\n",
              "      <td>8.106</td>\n",
              "      <td>False</td>\n",
              "    </tr>\n",
              "    <tr>\n",
              "      <th>4</th>\n",
              "      <td>1</td>\n",
              "      <td>2010-05-03</td>\n",
              "      <td>46.50</td>\n",
              "      <td>2.625</td>\n",
              "      <td>NaN</td>\n",
              "      <td>NaN</td>\n",
              "      <td>NaN</td>\n",
              "      <td>NaN</td>\n",
              "      <td>NaN</td>\n",
              "      <td>211.350143</td>\n",
              "      <td>8.106</td>\n",
              "      <td>False</td>\n",
              "    </tr>\n",
              "  </tbody>\n",
              "</table>\n",
              "</div>"
            ],
            "text/plain": [
              "   Store       Date  Temperature  ...         CPI  Unemployment  IsHoliday\n",
              "0      1 2010-05-02        42.31  ...  211.096358         8.106      False\n",
              "1      1 2010-12-02        38.51  ...  211.242170         8.106       True\n",
              "2      1 2010-02-19        39.93  ...  211.289143         8.106      False\n",
              "3      1 2010-02-26        46.63  ...  211.319643         8.106      False\n",
              "4      1 2010-05-03        46.50  ...  211.350143         8.106      False\n",
              "\n",
              "[5 rows x 12 columns]"
            ]
          },
          "metadata": {
            "tags": []
          },
          "execution_count": 5
        }
      ]
    },
    {
      "cell_type": "code",
      "metadata": {
        "scrolled": true,
        "id": "cIt8jQlW5mvO",
        "colab": {
          "base_uri": "https://localhost:8080/"
        },
        "outputId": "c2ae13db-bed8-4eba-91c9-317fff91a6b3"
      },
      "source": [
        "df_features.isna().sum()"
      ],
      "execution_count": null,
      "outputs": [
        {
          "output_type": "execute_result",
          "data": {
            "text/plain": [
              "Store              0\n",
              "Date               0\n",
              "Temperature        0\n",
              "Fuel_Price         0\n",
              "MarkDown1       4158\n",
              "MarkDown2       5269\n",
              "MarkDown3       4577\n",
              "MarkDown4       4726\n",
              "MarkDown5       4140\n",
              "CPI              585\n",
              "Unemployment     585\n",
              "IsHoliday          0\n",
              "dtype: int64"
            ]
          },
          "metadata": {
            "tags": []
          },
          "execution_count": 6
        }
      ]
    },
    {
      "cell_type": "code",
      "metadata": {
        "colab": {
          "base_uri": "https://localhost:8080/",
          "height": 265
        },
        "id": "OEtmYJqZplri",
        "outputId": "775e8ec8-5610-4ee3-d61b-02c86f8c18c7"
      },
      "source": [
        "df_features.Unemployment.plot();"
      ],
      "execution_count": null,
      "outputs": [
        {
          "output_type": "display_data",
          "data": {
            "image/png": "[encoded data removed]",
            "text/plain": [
              "<Figure size 432x288 with 1 Axes>"
            ]
          },
          "metadata": {
            "tags": [],
            "needs_background": "light"
          }
        }
      ]
    },
    {
      "cell_type": "code",
      "metadata": {
        "colab": {
          "base_uri": "https://localhost:8080/",
          "height": 265
        },
        "id": "ttCaA7HJkLEK",
        "outputId": "2734bdd2-1b88-481f-dc91-070deed7d10e"
      },
      "source": [
        "df_features.CPI.plot();"
      ],
      "execution_count": null,
      "outputs": [
        {
          "output_type": "display_data",
          "data": {
            "image/png": "[encoded data removed]",
            "text/plain": [
              "<Figure size 432x288 with 1 Axes>"
            ]
          },
          "metadata": {
            "tags": [],
            "needs_background": "light"
          }
        }
      ]
    },
    {
      "cell_type": "code",
      "metadata": {
        "colab": {
          "base_uri": "https://localhost:8080/",
          "height": 265
        },
        "id": "orb8jhgknBLv",
        "outputId": "e84764ee-2519-44f4-a45b-67b86a6bce2c"
      },
      "source": [
        "df_features[df_features.Store == 20].CPI.plot();"
      ],
      "execution_count": null,
      "outputs": [
        {
          "output_type": "display_data",
          "data": {
            "image/png": "[encoded data removed]",
            "text/plain": [
              "<Figure size 432x288 with 1 Axes>"
            ]
          },
          "metadata": {
            "tags": [],
            "needs_background": "light"
          }
        }
      ]
    },
    {
      "cell_type": "code",
      "metadata": {
        "colab": {
          "base_uri": "https://localhost:8080/",
          "height": 265
        },
        "id": "nUWbj0K4nIk6",
        "outputId": "faf0a927-efb6-4356-a008-7e6d0fe1e675"
      },
      "source": [
        "df_features[df_features.Store == 40].CPI.plot();"
      ],
      "execution_count": null,
      "outputs": [
        {
          "output_type": "display_data",
          "data": {
            "image/png": "[encoded data removed]",
            "text/plain": [
              "<Figure size 432x288 with 1 Axes>"
            ]
          },
          "metadata": {
            "tags": [],
            "needs_background": "light"
          }
        }
      ]
    },
    {
      "cell_type": "code",
      "metadata": {
        "colab": {
          "base_uri": "https://localhost:8080/",
          "height": 407
        },
        "id": "iXPLW--aj7dI",
        "outputId": "5e68ea1e-8e05-498d-a730-97da068a967f"
      },
      "source": [
        "df_features[df_features.CPI.isna()]"
      ],
      "execution_count": null,
      "outputs": [
        {
          "output_type": "execute_result",
          "data": {
            "text/html": [
              "<div>\n",
              "<style scoped>\n",
              "    .dataframe tbody tr th:only-of-type {\n",
              "        vertical-align: middle;\n",
              "    }\n",
              "\n",
              "    .dataframe tbody tr th {\n",
              "        vertical-align: top;\n",
              "    }\n",
              "\n",
              "    .dataframe thead th {\n",
              "        text-align: right;\n",
              "    }\n",
              "</style>\n",
              "<table border=\"1\" class=\"dataframe\">\n",
              "  <thead>\n",
              "    <tr style=\"text-align: right;\">\n",
              "      <th></th>\n",
              "      <th>Store</th>\n",
              "      <th>Date</th>\n",
              "      <th>Temperature</th>\n",
              "      <th>Fuel_Price</th>\n",
              "      <th>MarkDown1</th>\n",
              "      <th>MarkDown2</th>\n",
              "      <th>MarkDown3</th>\n",
              "      <th>MarkDown4</th>\n",
              "      <th>MarkDown5</th>\n",
              "      <th>CPI</th>\n",
              "      <th>Unemployment</th>\n",
              "      <th>IsHoliday</th>\n",
              "    </tr>\n",
              "  </thead>\n",
              "  <tbody>\n",
              "    <tr>\n",
              "      <th>169</th>\n",
              "      <td>1</td>\n",
              "      <td>2013-03-05</td>\n",
              "      <td>66.66</td>\n",
              "      <td>3.386</td>\n",
              "      <td>2298.63</td>\n",
              "      <td>2.00</td>\n",
              "      <td>129.90</td>\n",
              "      <td>55.46</td>\n",
              "      <td>1301.04</td>\n",
              "      <td>NaN</td>\n",
              "      <td>NaN</td>\n",
              "      <td>False</td>\n",
              "    </tr>\n",
              "    <tr>\n",
              "      <th>170</th>\n",
              "      <td>1</td>\n",
              "      <td>2013-10-05</td>\n",
              "      <td>63.90</td>\n",
              "      <td>3.392</td>\n",
              "      <td>4624.61</td>\n",
              "      <td>83.88</td>\n",
              "      <td>42.38</td>\n",
              "      <td>1618.31</td>\n",
              "      <td>8144.90</td>\n",
              "      <td>NaN</td>\n",
              "      <td>NaN</td>\n",
              "      <td>False</td>\n",
              "    </tr>\n",
              "    <tr>\n",
              "      <th>171</th>\n",
              "      <td>1</td>\n",
              "      <td>2013-05-17</td>\n",
              "      <td>69.53</td>\n",
              "      <td>3.454</td>\n",
              "      <td>16170.50</td>\n",
              "      <td>92.00</td>\n",
              "      <td>8.32</td>\n",
              "      <td>4127.24</td>\n",
              "      <td>6206.97</td>\n",
              "      <td>NaN</td>\n",
              "      <td>NaN</td>\n",
              "      <td>False</td>\n",
              "    </tr>\n",
              "    <tr>\n",
              "      <th>172</th>\n",
              "      <td>1</td>\n",
              "      <td>2013-05-24</td>\n",
              "      <td>77.19</td>\n",
              "      <td>3.494</td>\n",
              "      <td>7959.89</td>\n",
              "      <td>178.00</td>\n",
              "      <td>1621.47</td>\n",
              "      <td>3152.57</td>\n",
              "      <td>2938.70</td>\n",
              "      <td>NaN</td>\n",
              "      <td>NaN</td>\n",
              "      <td>False</td>\n",
              "    </tr>\n",
              "    <tr>\n",
              "      <th>173</th>\n",
              "      <td>1</td>\n",
              "      <td>2013-05-31</td>\n",
              "      <td>78.02</td>\n",
              "      <td>3.466</td>\n",
              "      <td>2369.77</td>\n",
              "      <td>142.45</td>\n",
              "      <td>475.35</td>\n",
              "      <td>45.55</td>\n",
              "      <td>2056.84</td>\n",
              "      <td>NaN</td>\n",
              "      <td>NaN</td>\n",
              "      <td>False</td>\n",
              "    </tr>\n",
              "    <tr>\n",
              "      <th>...</th>\n",
              "      <td>...</td>\n",
              "      <td>...</td>\n",
              "      <td>...</td>\n",
              "      <td>...</td>\n",
              "      <td>...</td>\n",
              "      <td>...</td>\n",
              "      <td>...</td>\n",
              "      <td>...</td>\n",
              "      <td>...</td>\n",
              "      <td>...</td>\n",
              "      <td>...</td>\n",
              "      <td>...</td>\n",
              "    </tr>\n",
              "    <tr>\n",
              "      <th>8185</th>\n",
              "      <td>45</td>\n",
              "      <td>2013-06-28</td>\n",
              "      <td>76.05</td>\n",
              "      <td>3.639</td>\n",
              "      <td>4842.29</td>\n",
              "      <td>975.03</td>\n",
              "      <td>3.00</td>\n",
              "      <td>2449.97</td>\n",
              "      <td>3169.69</td>\n",
              "      <td>NaN</td>\n",
              "      <td>NaN</td>\n",
              "      <td>False</td>\n",
              "    </tr>\n",
              "    <tr>\n",
              "      <th>8186</th>\n",
              "      <td>45</td>\n",
              "      <td>2013-05-07</td>\n",
              "      <td>77.50</td>\n",
              "      <td>3.614</td>\n",
              "      <td>9090.48</td>\n",
              "      <td>2268.58</td>\n",
              "      <td>582.74</td>\n",
              "      <td>5797.47</td>\n",
              "      <td>1514.93</td>\n",
              "      <td>NaN</td>\n",
              "      <td>NaN</td>\n",
              "      <td>False</td>\n",
              "    </tr>\n",
              "    <tr>\n",
              "      <th>8187</th>\n",
              "      <td>45</td>\n",
              "      <td>2013-12-07</td>\n",
              "      <td>79.37</td>\n",
              "      <td>3.614</td>\n",
              "      <td>3789.94</td>\n",
              "      <td>1827.31</td>\n",
              "      <td>85.72</td>\n",
              "      <td>744.84</td>\n",
              "      <td>2150.36</td>\n",
              "      <td>NaN</td>\n",
              "      <td>NaN</td>\n",
              "      <td>False</td>\n",
              "    </tr>\n",
              "    <tr>\n",
              "      <th>8188</th>\n",
              "      <td>45</td>\n",
              "      <td>2013-07-19</td>\n",
              "      <td>82.84</td>\n",
              "      <td>3.737</td>\n",
              "      <td>2961.49</td>\n",
              "      <td>1047.07</td>\n",
              "      <td>204.19</td>\n",
              "      <td>363.00</td>\n",
              "      <td>1059.46</td>\n",
              "      <td>NaN</td>\n",
              "      <td>NaN</td>\n",
              "      <td>False</td>\n",
              "    </tr>\n",
              "    <tr>\n",
              "      <th>8189</th>\n",
              "      <td>45</td>\n",
              "      <td>2013-07-26</td>\n",
              "      <td>76.06</td>\n",
              "      <td>3.804</td>\n",
              "      <td>212.02</td>\n",
              "      <td>851.73</td>\n",
              "      <td>2.06</td>\n",
              "      <td>10.88</td>\n",
              "      <td>1864.57</td>\n",
              "      <td>NaN</td>\n",
              "      <td>NaN</td>\n",
              "      <td>False</td>\n",
              "    </tr>\n",
              "  </tbody>\n",
              "</table>\n",
              "<p>585 rows × 12 columns</p>\n",
              "</div>"
            ],
            "text/plain": [
              "      Store       Date  Temperature  ...  CPI  Unemployment  IsHoliday\n",
              "169       1 2013-03-05        66.66  ...  NaN           NaN      False\n",
              "170       1 2013-10-05        63.90  ...  NaN           NaN      False\n",
              "171       1 2013-05-17        69.53  ...  NaN           NaN      False\n",
              "172       1 2013-05-24        77.19  ...  NaN           NaN      False\n",
              "173       1 2013-05-31        78.02  ...  NaN           NaN      False\n",
              "...     ...        ...          ...  ...  ...           ...        ...\n",
              "8185     45 2013-06-28        76.05  ...  NaN           NaN      False\n",
              "8186     45 2013-05-07        77.50  ...  NaN           NaN      False\n",
              "8187     45 2013-12-07        79.37  ...  NaN           NaN      False\n",
              "8188     45 2013-07-19        82.84  ...  NaN           NaN      False\n",
              "8189     45 2013-07-26        76.06  ...  NaN           NaN      False\n",
              "\n",
              "[585 rows x 12 columns]"
            ]
          },
          "metadata": {
            "tags": []
          },
          "execution_count": 8
        }
      ]
    },
    {
      "cell_type": "markdown",
      "metadata": {
        "id": "CL6QQbkr5mvP"
      },
      "source": [
        "Not wise to impute in missing values for the markdown columns as they have a lot of missing values. Considering only about 5% of CPI and Unemployment values are missing, we can look to impute in the missing values. "
      ]
    },
    {
      "cell_type": "code",
      "metadata": {
        "id": "GM06wD5oklA1"
      },
      "source": [
        "for i in range(1,46):\n",
        "  df_features[df_features.Store == i]= df_features[df_features.Store == i].interpolate()"
      ],
      "execution_count": 4,
      "outputs": []
    },
    {
      "cell_type": "code",
      "metadata": {
        "colab": {
          "base_uri": "https://localhost:8080/",
          "height": 265
        },
        "id": "2TUyCxNSk3Zu",
        "outputId": "9a5db68c-cade-49fa-b8c9-12f2fb03b974"
      },
      "source": [
        "df_features[df_features.Store == 20].CPI.plot();"
      ],
      "execution_count": null,
      "outputs": [
        {
          "output_type": "display_data",
          "data": {
            "image/png": "[encoded data removed]",
            "text/plain": [
              "<Figure size 432x288 with 1 Axes>"
            ]
          },
          "metadata": {
            "tags": [],
            "needs_background": "light"
          }
        }
      ]
    },
    {
      "cell_type": "code",
      "metadata": {
        "id": "j8dlJxDj5mvT",
        "colab": {
          "base_uri": "https://localhost:8080/"
        },
        "outputId": "bafa2358-331b-44b9-98d6-82e4e1ac8f77"
      },
      "source": [
        "df_features.isna().sum()"
      ],
      "execution_count": null,
      "outputs": [
        {
          "output_type": "execute_result",
          "data": {
            "text/plain": [
              "Store              0\n",
              "Date               0\n",
              "Temperature        0\n",
              "Fuel_Price         0\n",
              "MarkDown1       4140\n",
              "MarkDown2       4140\n",
              "MarkDown3       4143\n",
              "MarkDown4       4188\n",
              "MarkDown5       4140\n",
              "CPI                0\n",
              "Unemployment       0\n",
              "IsHoliday          0\n",
              "dtype: int64"
            ]
          },
          "metadata": {
            "tags": []
          },
          "execution_count": 37
        }
      ]
    },
    {
      "cell_type": "code",
      "metadata": {
        "id": "32-kQZGe5mvU"
      },
      "source": [
        "df_features[df_features.columns[4:9]] = df_features[df_features.columns[4:9]].fillna(0)"
      ],
      "execution_count": 5,
      "outputs": []
    },
    {
      "cell_type": "code",
      "metadata": {
        "id": "kPr4ye2C5mvZ",
        "colab": {
          "base_uri": "https://localhost:8080/"
        },
        "outputId": "fec919cc-9c50-4256-b68b-32f0eb5fe55f"
      },
      "source": [
        "df_features.isna().sum()"
      ],
      "execution_count": null,
      "outputs": [
        {
          "output_type": "execute_result",
          "data": {
            "text/plain": [
              "Store           0\n",
              "Date            0\n",
              "Temperature     0\n",
              "Fuel_Price      0\n",
              "MarkDown1       0\n",
              "MarkDown2       0\n",
              "MarkDown3       0\n",
              "MarkDown4       0\n",
              "MarkDown5       0\n",
              "CPI             0\n",
              "Unemployment    0\n",
              "IsHoliday       0\n",
              "dtype: int64"
            ]
          },
          "metadata": {
            "tags": []
          },
          "execution_count": 15
        }
      ]
    },
    {
      "cell_type": "code",
      "metadata": {
        "scrolled": true,
        "id": "4IYObwDC5mvZ",
        "colab": {
          "base_uri": "https://localhost:8080/",
          "height": 198
        },
        "outputId": "dd37f69a-f077-4a97-dc60-069a04f1e4e4"
      },
      "source": [
        "df_stores.head()"
      ],
      "execution_count": null,
      "outputs": [
        {
          "output_type": "execute_result",
          "data": {
            "text/html": [
              "<div>\n",
              "<style scoped>\n",
              "    .dataframe tbody tr th:only-of-type {\n",
              "        vertical-align: middle;\n",
              "    }\n",
              "\n",
              "    .dataframe tbody tr th {\n",
              "        vertical-align: top;\n",
              "    }\n",
              "\n",
              "    .dataframe thead th {\n",
              "        text-align: right;\n",
              "    }\n",
              "</style>\n",
              "<table border=\"1\" class=\"dataframe\">\n",
              "  <thead>\n",
              "    <tr style=\"text-align: right;\">\n",
              "      <th></th>\n",
              "      <th>Store</th>\n",
              "      <th>Type</th>\n",
              "      <th>Size</th>\n",
              "    </tr>\n",
              "  </thead>\n",
              "  <tbody>\n",
              "    <tr>\n",
              "      <th>0</th>\n",
              "      <td>1</td>\n",
              "      <td>A</td>\n",
              "      <td>151315</td>\n",
              "    </tr>\n",
              "    <tr>\n",
              "      <th>1</th>\n",
              "      <td>2</td>\n",
              "      <td>A</td>\n",
              "      <td>202307</td>\n",
              "    </tr>\n",
              "    <tr>\n",
              "      <th>2</th>\n",
              "      <td>3</td>\n",
              "      <td>B</td>\n",
              "      <td>37392</td>\n",
              "    </tr>\n",
              "    <tr>\n",
              "      <th>3</th>\n",
              "      <td>4</td>\n",
              "      <td>A</td>\n",
              "      <td>205863</td>\n",
              "    </tr>\n",
              "    <tr>\n",
              "      <th>4</th>\n",
              "      <td>5</td>\n",
              "      <td>B</td>\n",
              "      <td>34875</td>\n",
              "    </tr>\n",
              "  </tbody>\n",
              "</table>\n",
              "</div>"
            ],
            "text/plain": [
              "   Store Type    Size\n",
              "0      1    A  151315\n",
              "1      2    A  202307\n",
              "2      3    B   37392\n",
              "3      4    A  205863\n",
              "4      5    B   34875"
            ]
          },
          "metadata": {
            "tags": []
          },
          "execution_count": 48
        }
      ]
    },
    {
      "cell_type": "markdown",
      "metadata": {
        "id": "VlKnTakN5mva"
      },
      "source": [
        "Merging features and sales on column columns (Date, Store and IsHoliday) coupled with a right join on sales. This is because sales has data till 2012 but features has data till 2013 so let's train our model on the data till 2012 and forecast the 2013 data. "
      ]
    },
    {
      "cell_type": "code",
      "metadata": {
        "id": "YkRwyZgF5mva"
      },
      "source": [
        "df_all_1 = df_features.merge(df_sales, 'right', on = ['Date', 'Store', 'IsHoliday'])"
      ],
      "execution_count": 6,
      "outputs": []
    },
    {
      "cell_type": "code",
      "metadata": {
        "scrolled": true,
        "id": "yuJwvkn65mva",
        "colab": {
          "base_uri": "https://localhost:8080/",
          "height": 600
        },
        "outputId": "61acb1a8-ab45-4639-9c71-78e140dd641a"
      },
      "source": [
        "df_all_1"
      ],
      "execution_count": null,
      "outputs": [
        {
          "output_type": "execute_result",
          "data": {
            "text/html": [
              "<div>\n",
              "<style scoped>\n",
              "    .dataframe tbody tr th:only-of-type {\n",
              "        vertical-align: middle;\n",
              "    }\n",
              "\n",
              "    .dataframe tbody tr th {\n",
              "        vertical-align: top;\n",
              "    }\n",
              "\n",
              "    .dataframe thead th {\n",
              "        text-align: right;\n",
              "    }\n",
              "</style>\n",
              "<table border=\"1\" class=\"dataframe\">\n",
              "  <thead>\n",
              "    <tr style=\"text-align: right;\">\n",
              "      <th></th>\n",
              "      <th>Store</th>\n",
              "      <th>Date</th>\n",
              "      <th>Temperature</th>\n",
              "      <th>Fuel_Price</th>\n",
              "      <th>MarkDown1</th>\n",
              "      <th>MarkDown2</th>\n",
              "      <th>MarkDown3</th>\n",
              "      <th>MarkDown4</th>\n",
              "      <th>MarkDown5</th>\n",
              "      <th>CPI</th>\n",
              "      <th>Unemployment</th>\n",
              "      <th>IsHoliday</th>\n",
              "      <th>Dept</th>\n",
              "      <th>Weekly_Sales</th>\n",
              "    </tr>\n",
              "  </thead>\n",
              "  <tbody>\n",
              "    <tr>\n",
              "      <th>0</th>\n",
              "      <td>1</td>\n",
              "      <td>2010-05-02</td>\n",
              "      <td>42.31</td>\n",
              "      <td>2.572</td>\n",
              "      <td>0.00</td>\n",
              "      <td>0.00</td>\n",
              "      <td>0.0</td>\n",
              "      <td>0.00</td>\n",
              "      <td>0.00</td>\n",
              "      <td>211.096358</td>\n",
              "      <td>8.106</td>\n",
              "      <td>False</td>\n",
              "      <td>1</td>\n",
              "      <td>24924.50</td>\n",
              "    </tr>\n",
              "    <tr>\n",
              "      <th>1</th>\n",
              "      <td>1</td>\n",
              "      <td>2010-05-02</td>\n",
              "      <td>42.31</td>\n",
              "      <td>2.572</td>\n",
              "      <td>0.00</td>\n",
              "      <td>0.00</td>\n",
              "      <td>0.0</td>\n",
              "      <td>0.00</td>\n",
              "      <td>0.00</td>\n",
              "      <td>211.096358</td>\n",
              "      <td>8.106</td>\n",
              "      <td>False</td>\n",
              "      <td>2</td>\n",
              "      <td>50605.27</td>\n",
              "    </tr>\n",
              "    <tr>\n",
              "      <th>2</th>\n",
              "      <td>1</td>\n",
              "      <td>2010-05-02</td>\n",
              "      <td>42.31</td>\n",
              "      <td>2.572</td>\n",
              "      <td>0.00</td>\n",
              "      <td>0.00</td>\n",
              "      <td>0.0</td>\n",
              "      <td>0.00</td>\n",
              "      <td>0.00</td>\n",
              "      <td>211.096358</td>\n",
              "      <td>8.106</td>\n",
              "      <td>False</td>\n",
              "      <td>3</td>\n",
              "      <td>13740.12</td>\n",
              "    </tr>\n",
              "    <tr>\n",
              "      <th>3</th>\n",
              "      <td>1</td>\n",
              "      <td>2010-05-02</td>\n",
              "      <td>42.31</td>\n",
              "      <td>2.572</td>\n",
              "      <td>0.00</td>\n",
              "      <td>0.00</td>\n",
              "      <td>0.0</td>\n",
              "      <td>0.00</td>\n",
              "      <td>0.00</td>\n",
              "      <td>211.096358</td>\n",
              "      <td>8.106</td>\n",
              "      <td>False</td>\n",
              "      <td>4</td>\n",
              "      <td>39954.04</td>\n",
              "    </tr>\n",
              "    <tr>\n",
              "      <th>4</th>\n",
              "      <td>1</td>\n",
              "      <td>2010-05-02</td>\n",
              "      <td>42.31</td>\n",
              "      <td>2.572</td>\n",
              "      <td>0.00</td>\n",
              "      <td>0.00</td>\n",
              "      <td>0.0</td>\n",
              "      <td>0.00</td>\n",
              "      <td>0.00</td>\n",
              "      <td>211.096358</td>\n",
              "      <td>8.106</td>\n",
              "      <td>False</td>\n",
              "      <td>5</td>\n",
              "      <td>32229.38</td>\n",
              "    </tr>\n",
              "    <tr>\n",
              "      <th>...</th>\n",
              "      <td>...</td>\n",
              "      <td>...</td>\n",
              "      <td>...</td>\n",
              "      <td>...</td>\n",
              "      <td>...</td>\n",
              "      <td>...</td>\n",
              "      <td>...</td>\n",
              "      <td>...</td>\n",
              "      <td>...</td>\n",
              "      <td>...</td>\n",
              "      <td>...</td>\n",
              "      <td>...</td>\n",
              "      <td>...</td>\n",
              "      <td>...</td>\n",
              "    </tr>\n",
              "    <tr>\n",
              "      <th>421565</th>\n",
              "      <td>45</td>\n",
              "      <td>2012-10-26</td>\n",
              "      <td>58.85</td>\n",
              "      <td>3.882</td>\n",
              "      <td>4018.91</td>\n",
              "      <td>58.08</td>\n",
              "      <td>100.0</td>\n",
              "      <td>211.94</td>\n",
              "      <td>858.33</td>\n",
              "      <td>192.308899</td>\n",
              "      <td>8.667</td>\n",
              "      <td>False</td>\n",
              "      <td>93</td>\n",
              "      <td>2487.80</td>\n",
              "    </tr>\n",
              "    <tr>\n",
              "      <th>421566</th>\n",
              "      <td>45</td>\n",
              "      <td>2012-10-26</td>\n",
              "      <td>58.85</td>\n",
              "      <td>3.882</td>\n",
              "      <td>4018.91</td>\n",
              "      <td>58.08</td>\n",
              "      <td>100.0</td>\n",
              "      <td>211.94</td>\n",
              "      <td>858.33</td>\n",
              "      <td>192.308899</td>\n",
              "      <td>8.667</td>\n",
              "      <td>False</td>\n",
              "      <td>94</td>\n",
              "      <td>5203.31</td>\n",
              "    </tr>\n",
              "    <tr>\n",
              "      <th>421567</th>\n",
              "      <td>45</td>\n",
              "      <td>2012-10-26</td>\n",
              "      <td>58.85</td>\n",
              "      <td>3.882</td>\n",
              "      <td>4018.91</td>\n",
              "      <td>58.08</td>\n",
              "      <td>100.0</td>\n",
              "      <td>211.94</td>\n",
              "      <td>858.33</td>\n",
              "      <td>192.308899</td>\n",
              "      <td>8.667</td>\n",
              "      <td>False</td>\n",
              "      <td>95</td>\n",
              "      <td>56017.47</td>\n",
              "    </tr>\n",
              "    <tr>\n",
              "      <th>421568</th>\n",
              "      <td>45</td>\n",
              "      <td>2012-10-26</td>\n",
              "      <td>58.85</td>\n",
              "      <td>3.882</td>\n",
              "      <td>4018.91</td>\n",
              "      <td>58.08</td>\n",
              "      <td>100.0</td>\n",
              "      <td>211.94</td>\n",
              "      <td>858.33</td>\n",
              "      <td>192.308899</td>\n",
              "      <td>8.667</td>\n",
              "      <td>False</td>\n",
              "      <td>97</td>\n",
              "      <td>6817.48</td>\n",
              "    </tr>\n",
              "    <tr>\n",
              "      <th>421569</th>\n",
              "      <td>45</td>\n",
              "      <td>2012-10-26</td>\n",
              "      <td>58.85</td>\n",
              "      <td>3.882</td>\n",
              "      <td>4018.91</td>\n",
              "      <td>58.08</td>\n",
              "      <td>100.0</td>\n",
              "      <td>211.94</td>\n",
              "      <td>858.33</td>\n",
              "      <td>192.308899</td>\n",
              "      <td>8.667</td>\n",
              "      <td>False</td>\n",
              "      <td>98</td>\n",
              "      <td>1076.80</td>\n",
              "    </tr>\n",
              "  </tbody>\n",
              "</table>\n",
              "<p>421570 rows × 14 columns</p>\n",
              "</div>"
            ],
            "text/plain": [
              "        Store       Date  Temperature  ...  IsHoliday  Dept  Weekly_Sales\n",
              "0           1 2010-05-02        42.31  ...      False     1      24924.50\n",
              "1           1 2010-05-02        42.31  ...      False     2      50605.27\n",
              "2           1 2010-05-02        42.31  ...      False     3      13740.12\n",
              "3           1 2010-05-02        42.31  ...      False     4      39954.04\n",
              "4           1 2010-05-02        42.31  ...      False     5      32229.38\n",
              "...       ...        ...          ...  ...        ...   ...           ...\n",
              "421565     45 2012-10-26        58.85  ...      False    93       2487.80\n",
              "421566     45 2012-10-26        58.85  ...      False    94       5203.31\n",
              "421567     45 2012-10-26        58.85  ...      False    95      56017.47\n",
              "421568     45 2012-10-26        58.85  ...      False    97       6817.48\n",
              "421569     45 2012-10-26        58.85  ...      False    98       1076.80\n",
              "\n",
              "[421570 rows x 14 columns]"
            ]
          },
          "metadata": {
            "tags": []
          },
          "execution_count": 19
        }
      ]
    },
    {
      "cell_type": "markdown",
      "metadata": {
        "id": "I-U1_q3I_JeE"
      },
      "source": [
        "Merging sales+features with stores "
      ]
    },
    {
      "cell_type": "code",
      "metadata": {
        "id": "UfDLxeuG5mvb"
      },
      "source": [
        "df_all = df_all_1.merge(df_stores, 'left', on = 'Store')"
      ],
      "execution_count": 7,
      "outputs": []
    },
    {
      "cell_type": "code",
      "metadata": {
        "scrolled": true,
        "id": "gMu5C-_y5mvc"
      },
      "source": [
        "df_all = df_all.sort_values('Date')"
      ],
      "execution_count": 8,
      "outputs": []
    },
    {
      "cell_type": "code",
      "metadata": {
        "id": "XKMwBCE15mvc"
      },
      "source": [
        "df_all.reset_index(inplace = True)"
      ],
      "execution_count": 9,
      "outputs": []
    },
    {
      "cell_type": "code",
      "metadata": {
        "id": "YKPLztmd5mvd"
      },
      "source": [
        "df_all.drop(['index'], axis = 1, inplace = True)"
      ],
      "execution_count": 10,
      "outputs": []
    },
    {
      "cell_type": "code",
      "metadata": {
        "id": "MiGAiDyC5mve",
        "colab": {
          "base_uri": "https://localhost:8080/",
          "height": 198
        },
        "outputId": "b06f2c8b-ad03-4d36-cc69-6db278ed8e1c"
      },
      "source": [
        "df_all.head()"
      ],
      "execution_count": 11,
      "outputs": [
        {
          "output_type": "execute_result",
          "data": {
            "text/html": [
              "<div>\n",
              "<style scoped>\n",
              "    .dataframe tbody tr th:only-of-type {\n",
              "        vertical-align: middle;\n",
              "    }\n",
              "\n",
              "    .dataframe tbody tr th {\n",
              "        vertical-align: top;\n",
              "    }\n",
              "\n",
              "    .dataframe thead th {\n",
              "        text-align: right;\n",
              "    }\n",
              "</style>\n",
              "<table border=\"1\" class=\"dataframe\">\n",
              "  <thead>\n",
              "    <tr style=\"text-align: right;\">\n",
              "      <th></th>\n",
              "      <th>Store</th>\n",
              "      <th>Date</th>\n",
              "      <th>Temperature</th>\n",
              "      <th>Fuel_Price</th>\n",
              "      <th>MarkDown1</th>\n",
              "      <th>MarkDown2</th>\n",
              "      <th>MarkDown3</th>\n",
              "      <th>MarkDown4</th>\n",
              "      <th>MarkDown5</th>\n",
              "      <th>CPI</th>\n",
              "      <th>Unemployment</th>\n",
              "      <th>IsHoliday</th>\n",
              "      <th>Dept</th>\n",
              "      <th>Weekly_Sales</th>\n",
              "      <th>Type</th>\n",
              "      <th>Size</th>\n",
              "    </tr>\n",
              "  </thead>\n",
              "  <tbody>\n",
              "    <tr>\n",
              "      <th>0</th>\n",
              "      <td>13</td>\n",
              "      <td>2010-01-10</td>\n",
              "      <td>68.74</td>\n",
              "      <td>2.853</td>\n",
              "      <td>0.0</td>\n",
              "      <td>0.0</td>\n",
              "      <td>0.0</td>\n",
              "      <td>0.0</td>\n",
              "      <td>0.0</td>\n",
              "      <td>126.234600</td>\n",
              "      <td>7.795</td>\n",
              "      <td>False</td>\n",
              "      <td>14</td>\n",
              "      <td>20922.18</td>\n",
              "      <td>A</td>\n",
              "      <td>219622</td>\n",
              "    </tr>\n",
              "    <tr>\n",
              "      <th>1</th>\n",
              "      <td>40</td>\n",
              "      <td>2010-01-10</td>\n",
              "      <td>62.01</td>\n",
              "      <td>2.717</td>\n",
              "      <td>0.0</td>\n",
              "      <td>0.0</td>\n",
              "      <td>0.0</td>\n",
              "      <td>0.0</td>\n",
              "      <td>0.0</td>\n",
              "      <td>132.756800</td>\n",
              "      <td>5.287</td>\n",
              "      <td>False</td>\n",
              "      <td>74</td>\n",
              "      <td>9872.41</td>\n",
              "      <td>A</td>\n",
              "      <td>155083</td>\n",
              "    </tr>\n",
              "    <tr>\n",
              "      <th>2</th>\n",
              "      <td>40</td>\n",
              "      <td>2010-01-10</td>\n",
              "      <td>62.01</td>\n",
              "      <td>2.717</td>\n",
              "      <td>0.0</td>\n",
              "      <td>0.0</td>\n",
              "      <td>0.0</td>\n",
              "      <td>0.0</td>\n",
              "      <td>0.0</td>\n",
              "      <td>132.756800</td>\n",
              "      <td>5.287</td>\n",
              "      <td>False</td>\n",
              "      <td>79</td>\n",
              "      <td>10840.77</td>\n",
              "      <td>A</td>\n",
              "      <td>155083</td>\n",
              "    </tr>\n",
              "    <tr>\n",
              "      <th>3</th>\n",
              "      <td>27</td>\n",
              "      <td>2010-01-10</td>\n",
              "      <td>70.19</td>\n",
              "      <td>2.840</td>\n",
              "      <td>0.0</td>\n",
              "      <td>0.0</td>\n",
              "      <td>0.0</td>\n",
              "      <td>0.0</td>\n",
              "      <td>0.0</td>\n",
              "      <td>136.629757</td>\n",
              "      <td>8.021</td>\n",
              "      <td>False</td>\n",
              "      <td>98</td>\n",
              "      <td>9837.86</td>\n",
              "      <td>A</td>\n",
              "      <td>204184</td>\n",
              "    </tr>\n",
              "    <tr>\n",
              "      <th>4</th>\n",
              "      <td>27</td>\n",
              "      <td>2010-01-10</td>\n",
              "      <td>70.19</td>\n",
              "      <td>2.840</td>\n",
              "      <td>0.0</td>\n",
              "      <td>0.0</td>\n",
              "      <td>0.0</td>\n",
              "      <td>0.0</td>\n",
              "      <td>0.0</td>\n",
              "      <td>136.629757</td>\n",
              "      <td>8.021</td>\n",
              "      <td>False</td>\n",
              "      <td>97</td>\n",
              "      <td>19095.76</td>\n",
              "      <td>A</td>\n",
              "      <td>204184</td>\n",
              "    </tr>\n",
              "  </tbody>\n",
              "</table>\n",
              "</div>"
            ],
            "text/plain": [
              "   Store       Date  Temperature  Fuel_Price  ...  Dept  Weekly_Sales  Type    Size\n",
              "0     13 2010-01-10        68.74       2.853  ...    14      20922.18     A  219622\n",
              "1     40 2010-01-10        62.01       2.717  ...    74       9872.41     A  155083\n",
              "2     40 2010-01-10        62.01       2.717  ...    79      10840.77     A  155083\n",
              "3     27 2010-01-10        70.19       2.840  ...    98       9837.86     A  204184\n",
              "4     27 2010-01-10        70.19       2.840  ...    97      19095.76     A  204184\n",
              "\n",
              "[5 rows x 16 columns]"
            ]
          },
          "metadata": {
            "tags": []
          },
          "execution_count": 11
        }
      ]
    },
    {
      "cell_type": "code",
      "metadata": {
        "scrolled": false,
        "id": "NiysIbMc5mve",
        "colab": {
          "base_uri": "https://localhost:8080/",
          "height": 308
        },
        "outputId": "7b67b731-5c5d-4e39-c508-660301aa70d5"
      },
      "source": [
        "df_all.describe()"
      ],
      "execution_count": null,
      "outputs": [
        {
          "output_type": "execute_result",
          "data": {
            "text/html": [
              "<div>\n",
              "<style scoped>\n",
              "    .dataframe tbody tr th:only-of-type {\n",
              "        vertical-align: middle;\n",
              "    }\n",
              "\n",
              "    .dataframe tbody tr th {\n",
              "        vertical-align: top;\n",
              "    }\n",
              "\n",
              "    .dataframe thead th {\n",
              "        text-align: right;\n",
              "    }\n",
              "</style>\n",
              "<table border=\"1\" class=\"dataframe\">\n",
              "  <thead>\n",
              "    <tr style=\"text-align: right;\">\n",
              "      <th></th>\n",
              "      <th>Store</th>\n",
              "      <th>Temperature</th>\n",
              "      <th>Fuel_Price</th>\n",
              "      <th>MarkDown1</th>\n",
              "      <th>MarkDown2</th>\n",
              "      <th>MarkDown3</th>\n",
              "      <th>MarkDown4</th>\n",
              "      <th>MarkDown5</th>\n",
              "      <th>CPI</th>\n",
              "      <th>Unemployment</th>\n",
              "      <th>Dept</th>\n",
              "      <th>Weekly_Sales</th>\n",
              "      <th>Size</th>\n",
              "    </tr>\n",
              "  </thead>\n",
              "  <tbody>\n",
              "    <tr>\n",
              "      <th>count</th>\n",
              "      <td>421570.000000</td>\n",
              "      <td>421570.000000</td>\n",
              "      <td>421570.000000</td>\n",
              "      <td>421570.000000</td>\n",
              "      <td>421570.000000</td>\n",
              "      <td>421570.000000</td>\n",
              "      <td>421570.000000</td>\n",
              "      <td>421570.000000</td>\n",
              "      <td>421570.000000</td>\n",
              "      <td>421570.000000</td>\n",
              "      <td>421570.000000</td>\n",
              "      <td>421570.000000</td>\n",
              "      <td>421570.000000</td>\n",
              "    </tr>\n",
              "    <tr>\n",
              "      <th>mean</th>\n",
              "      <td>22.200546</td>\n",
              "      <td>60.090059</td>\n",
              "      <td>3.361027</td>\n",
              "      <td>2590.074819</td>\n",
              "      <td>879.974298</td>\n",
              "      <td>468.087665</td>\n",
              "      <td>1083.132268</td>\n",
              "      <td>1662.772385</td>\n",
              "      <td>171.201947</td>\n",
              "      <td>7.960289</td>\n",
              "      <td>44.260317</td>\n",
              "      <td>15981.258123</td>\n",
              "      <td>136727.915739</td>\n",
              "    </tr>\n",
              "    <tr>\n",
              "      <th>std</th>\n",
              "      <td>12.785297</td>\n",
              "      <td>18.447931</td>\n",
              "      <td>0.458515</td>\n",
              "      <td>6052.385934</td>\n",
              "      <td>5084.538801</td>\n",
              "      <td>5528.873453</td>\n",
              "      <td>3894.529945</td>\n",
              "      <td>4207.629321</td>\n",
              "      <td>39.159276</td>\n",
              "      <td>1.863296</td>\n",
              "      <td>30.492054</td>\n",
              "      <td>22711.183519</td>\n",
              "      <td>60980.583328</td>\n",
              "    </tr>\n",
              "    <tr>\n",
              "      <th>min</th>\n",
              "      <td>1.000000</td>\n",
              "      <td>-2.060000</td>\n",
              "      <td>2.472000</td>\n",
              "      <td>0.000000</td>\n",
              "      <td>-265.760000</td>\n",
              "      <td>-29.100000</td>\n",
              "      <td>0.000000</td>\n",
              "      <td>0.000000</td>\n",
              "      <td>126.064000</td>\n",
              "      <td>3.879000</td>\n",
              "      <td>1.000000</td>\n",
              "      <td>-4988.940000</td>\n",
              "      <td>34875.000000</td>\n",
              "    </tr>\n",
              "    <tr>\n",
              "      <th>25%</th>\n",
              "      <td>11.000000</td>\n",
              "      <td>46.680000</td>\n",
              "      <td>2.933000</td>\n",
              "      <td>0.000000</td>\n",
              "      <td>0.000000</td>\n",
              "      <td>0.000000</td>\n",
              "      <td>0.000000</td>\n",
              "      <td>0.000000</td>\n",
              "      <td>132.022667</td>\n",
              "      <td>6.891000</td>\n",
              "      <td>18.000000</td>\n",
              "      <td>2079.650000</td>\n",
              "      <td>93638.000000</td>\n",
              "    </tr>\n",
              "    <tr>\n",
              "      <th>50%</th>\n",
              "      <td>22.000000</td>\n",
              "      <td>62.090000</td>\n",
              "      <td>3.452000</td>\n",
              "      <td>0.000000</td>\n",
              "      <td>0.000000</td>\n",
              "      <td>0.000000</td>\n",
              "      <td>0.000000</td>\n",
              "      <td>0.000000</td>\n",
              "      <td>182.318780</td>\n",
              "      <td>7.866000</td>\n",
              "      <td>37.000000</td>\n",
              "      <td>7612.030000</td>\n",
              "      <td>140167.000000</td>\n",
              "    </tr>\n",
              "    <tr>\n",
              "      <th>75%</th>\n",
              "      <td>33.000000</td>\n",
              "      <td>74.280000</td>\n",
              "      <td>3.738000</td>\n",
              "      <td>2809.050000</td>\n",
              "      <td>2.200000</td>\n",
              "      <td>4.540000</td>\n",
              "      <td>425.290000</td>\n",
              "      <td>2168.040000</td>\n",
              "      <td>212.416993</td>\n",
              "      <td>8.572000</td>\n",
              "      <td>74.000000</td>\n",
              "      <td>20205.852500</td>\n",
              "      <td>202505.000000</td>\n",
              "    </tr>\n",
              "    <tr>\n",
              "      <th>max</th>\n",
              "      <td>45.000000</td>\n",
              "      <td>100.140000</td>\n",
              "      <td>4.468000</td>\n",
              "      <td>88646.760000</td>\n",
              "      <td>104519.540000</td>\n",
              "      <td>141630.610000</td>\n",
              "      <td>67474.850000</td>\n",
              "      <td>108519.280000</td>\n",
              "      <td>227.232807</td>\n",
              "      <td>14.313000</td>\n",
              "      <td>99.000000</td>\n",
              "      <td>693099.360000</td>\n",
              "      <td>219622.000000</td>\n",
              "    </tr>\n",
              "  </tbody>\n",
              "</table>\n",
              "</div>"
            ],
            "text/plain": [
              "               Store    Temperature  ...   Weekly_Sales           Size\n",
              "count  421570.000000  421570.000000  ...  421570.000000  421570.000000\n",
              "mean       22.200546      60.090059  ...   15981.258123  136727.915739\n",
              "std        12.785297      18.447931  ...   22711.183519   60980.583328\n",
              "min         1.000000      -2.060000  ...   -4988.940000   34875.000000\n",
              "25%        11.000000      46.680000  ...    2079.650000   93638.000000\n",
              "50%        22.000000      62.090000  ...    7612.030000  140167.000000\n",
              "75%        33.000000      74.280000  ...   20205.852500  202505.000000\n",
              "max        45.000000     100.140000  ...  693099.360000  219622.000000\n",
              "\n",
              "[8 rows x 13 columns]"
            ]
          },
          "metadata": {
            "tags": []
          },
          "execution_count": 26
        }
      ]
    },
    {
      "cell_type": "code",
      "metadata": {
        "scrolled": true,
        "id": "bmJyxjqi5mvf",
        "colab": {
          "base_uri": "https://localhost:8080/"
        },
        "outputId": "729284ea-f13d-46fa-90e1-cc90d69c30de"
      },
      "source": [
        "df_all.info()"
      ],
      "execution_count": null,
      "outputs": [
        {
          "output_type": "stream",
          "text": [
            "<class 'pandas.core.frame.DataFrame'>\n",
            "RangeIndex: 421570 entries, 0 to 421569\n",
            "Data columns (total 16 columns):\n",
            " #   Column        Non-Null Count   Dtype         \n",
            "---  ------        --------------   -----         \n",
            " 0   Store         421570 non-null  int64         \n",
            " 1   Date          421570 non-null  datetime64[ns]\n",
            " 2   Temperature   421570 non-null  float64       \n",
            " 3   Fuel_Price    421570 non-null  float64       \n",
            " 4   MarkDown1     421570 non-null  float64       \n",
            " 5   MarkDown2     421570 non-null  float64       \n",
            " 6   MarkDown3     421570 non-null  float64       \n",
            " 7   MarkDown4     421570 non-null  float64       \n",
            " 8   MarkDown5     421570 non-null  float64       \n",
            " 9   CPI           421570 non-null  float64       \n",
            " 10  Unemployment  421570 non-null  float64       \n",
            " 11  IsHoliday     421570 non-null  bool          \n",
            " 12  Dept          421570 non-null  int64         \n",
            " 13  Weekly_Sales  421570 non-null  float64       \n",
            " 14  Type          421570 non-null  object        \n",
            " 15  Size          421570 non-null  int64         \n",
            "dtypes: bool(1), datetime64[ns](1), float64(10), int64(3), object(1)\n",
            "memory usage: 48.6+ MB\n"
          ],
          "name": "stdout"
        }
      ]
    },
    {
      "cell_type": "code",
      "metadata": {
        "id": "n2348VFH5mvf"
      },
      "source": [
        "df_all_copy = df_all.copy()"
      ],
      "execution_count": null,
      "outputs": []
    },
    {
      "cell_type": "code",
      "metadata": {
        "id": "g2VMuPeI5mvf"
      },
      "source": [
        "mapping_dict = {'IsHoliday':{True:1, False:0}}\n",
        "df_all.replace(mapping_dict, inplace=True)\n",
        "mapping_dict_1 = {'Type':{'A':3, 'B':2, 'C':1}}\n",
        "df_all.replace(mapping_dict_1, inplace=True)"
      ],
      "execution_count": 12,
      "outputs": []
    },
    {
      "cell_type": "code",
      "metadata": {
        "scrolled": true,
        "id": "suTZ_ZEG5mvh",
        "colab": {
          "base_uri": "https://localhost:8080/"
        },
        "outputId": "751d0cd8-6577-4f76-b77a-075a597f98e6"
      },
      "source": [
        "df_all.info()"
      ],
      "execution_count": null,
      "outputs": [
        {
          "output_type": "stream",
          "text": [
            "<class 'pandas.core.frame.DataFrame'>\n",
            "RangeIndex: 421570 entries, 0 to 421569\n",
            "Data columns (total 16 columns):\n",
            " #   Column        Non-Null Count   Dtype         \n",
            "---  ------        --------------   -----         \n",
            " 0   Store         421570 non-null  int64         \n",
            " 1   Date          421570 non-null  datetime64[ns]\n",
            " 2   Temperature   421570 non-null  float64       \n",
            " 3   Fuel_Price    421570 non-null  float64       \n",
            " 4   MarkDown1     421570 non-null  float64       \n",
            " 5   MarkDown2     421570 non-null  float64       \n",
            " 6   MarkDown3     421570 non-null  float64       \n",
            " 7   MarkDown4     421570 non-null  float64       \n",
            " 8   MarkDown5     421570 non-null  float64       \n",
            " 9   CPI           421570 non-null  float64       \n",
            " 10  Unemployment  421570 non-null  float64       \n",
            " 11  IsHoliday     421570 non-null  int64         \n",
            " 12  Dept          421570 non-null  int64         \n",
            " 13  Weekly_Sales  421570 non-null  float64       \n",
            " 14  Type          421570 non-null  int64         \n",
            " 15  Size          421570 non-null  int64         \n",
            "dtypes: datetime64[ns](1), float64(10), int64(5)\n",
            "memory usage: 51.5 MB\n"
          ],
          "name": "stdout"
        }
      ]
    },
    {
      "cell_type": "code",
      "metadata": {
        "scrolled": true,
        "id": "Oa6In1bB5mvi",
        "colab": {
          "base_uri": "https://localhost:8080/",
          "height": 198
        },
        "outputId": "9450333e-e6d6-471b-ca8f-261539bf3705"
      },
      "source": [
        "df_all.head()"
      ],
      "execution_count": null,
      "outputs": [
        {
          "output_type": "execute_result",
          "data": {
            "text/html": [
              "<div>\n",
              "<style scoped>\n",
              "    .dataframe tbody tr th:only-of-type {\n",
              "        vertical-align: middle;\n",
              "    }\n",
              "\n",
              "    .dataframe tbody tr th {\n",
              "        vertical-align: top;\n",
              "    }\n",
              "\n",
              "    .dataframe thead th {\n",
              "        text-align: right;\n",
              "    }\n",
              "</style>\n",
              "<table border=\"1\" class=\"dataframe\">\n",
              "  <thead>\n",
              "    <tr style=\"text-align: right;\">\n",
              "      <th></th>\n",
              "      <th>Store</th>\n",
              "      <th>Date</th>\n",
              "      <th>Temperature</th>\n",
              "      <th>Fuel_Price</th>\n",
              "      <th>MarkDown1</th>\n",
              "      <th>MarkDown2</th>\n",
              "      <th>MarkDown3</th>\n",
              "      <th>MarkDown4</th>\n",
              "      <th>MarkDown5</th>\n",
              "      <th>CPI</th>\n",
              "      <th>Unemployment</th>\n",
              "      <th>IsHoliday</th>\n",
              "      <th>Dept</th>\n",
              "      <th>Weekly_Sales</th>\n",
              "      <th>Type</th>\n",
              "      <th>Size</th>\n",
              "    </tr>\n",
              "  </thead>\n",
              "  <tbody>\n",
              "    <tr>\n",
              "      <th>0</th>\n",
              "      <td>13</td>\n",
              "      <td>2010-01-10</td>\n",
              "      <td>68.74</td>\n",
              "      <td>2.853</td>\n",
              "      <td>0.0</td>\n",
              "      <td>0.0</td>\n",
              "      <td>0.0</td>\n",
              "      <td>0.0</td>\n",
              "      <td>0.0</td>\n",
              "      <td>126.234600</td>\n",
              "      <td>7.795</td>\n",
              "      <td>0</td>\n",
              "      <td>14</td>\n",
              "      <td>20922.18</td>\n",
              "      <td>3</td>\n",
              "      <td>219622</td>\n",
              "    </tr>\n",
              "    <tr>\n",
              "      <th>1</th>\n",
              "      <td>40</td>\n",
              "      <td>2010-01-10</td>\n",
              "      <td>62.01</td>\n",
              "      <td>2.717</td>\n",
              "      <td>0.0</td>\n",
              "      <td>0.0</td>\n",
              "      <td>0.0</td>\n",
              "      <td>0.0</td>\n",
              "      <td>0.0</td>\n",
              "      <td>132.756800</td>\n",
              "      <td>5.287</td>\n",
              "      <td>0</td>\n",
              "      <td>74</td>\n",
              "      <td>9872.41</td>\n",
              "      <td>3</td>\n",
              "      <td>155083</td>\n",
              "    </tr>\n",
              "    <tr>\n",
              "      <th>2</th>\n",
              "      <td>40</td>\n",
              "      <td>2010-01-10</td>\n",
              "      <td>62.01</td>\n",
              "      <td>2.717</td>\n",
              "      <td>0.0</td>\n",
              "      <td>0.0</td>\n",
              "      <td>0.0</td>\n",
              "      <td>0.0</td>\n",
              "      <td>0.0</td>\n",
              "      <td>132.756800</td>\n",
              "      <td>5.287</td>\n",
              "      <td>0</td>\n",
              "      <td>79</td>\n",
              "      <td>10840.77</td>\n",
              "      <td>3</td>\n",
              "      <td>155083</td>\n",
              "    </tr>\n",
              "    <tr>\n",
              "      <th>3</th>\n",
              "      <td>27</td>\n",
              "      <td>2010-01-10</td>\n",
              "      <td>70.19</td>\n",
              "      <td>2.840</td>\n",
              "      <td>0.0</td>\n",
              "      <td>0.0</td>\n",
              "      <td>0.0</td>\n",
              "      <td>0.0</td>\n",
              "      <td>0.0</td>\n",
              "      <td>136.629757</td>\n",
              "      <td>8.021</td>\n",
              "      <td>0</td>\n",
              "      <td>98</td>\n",
              "      <td>9837.86</td>\n",
              "      <td>3</td>\n",
              "      <td>204184</td>\n",
              "    </tr>\n",
              "    <tr>\n",
              "      <th>4</th>\n",
              "      <td>27</td>\n",
              "      <td>2010-01-10</td>\n",
              "      <td>70.19</td>\n",
              "      <td>2.840</td>\n",
              "      <td>0.0</td>\n",
              "      <td>0.0</td>\n",
              "      <td>0.0</td>\n",
              "      <td>0.0</td>\n",
              "      <td>0.0</td>\n",
              "      <td>136.629757</td>\n",
              "      <td>8.021</td>\n",
              "      <td>0</td>\n",
              "      <td>97</td>\n",
              "      <td>19095.76</td>\n",
              "      <td>3</td>\n",
              "      <td>204184</td>\n",
              "    </tr>\n",
              "  </tbody>\n",
              "</table>\n",
              "</div>"
            ],
            "text/plain": [
              "   Store       Date  Temperature  Fuel_Price  ...  Dept  Weekly_Sales  Type    Size\n",
              "0     13 2010-01-10        68.74       2.853  ...    14      20922.18     3  219622\n",
              "1     40 2010-01-10        62.01       2.717  ...    74       9872.41     3  155083\n",
              "2     40 2010-01-10        62.01       2.717  ...    79      10840.77     3  155083\n",
              "3     27 2010-01-10        70.19       2.840  ...    98       9837.86     3  204184\n",
              "4     27 2010-01-10        70.19       2.840  ...    97      19095.76     3  204184\n",
              "\n",
              "[5 rows x 16 columns]"
            ]
          },
          "metadata": {
            "tags": []
          },
          "execution_count": 64
        }
      ]
    },
    {
      "cell_type": "markdown",
      "metadata": {
        "id": "HZWC_QjL5mvi"
      },
      "source": [
        "# EDA"
      ]
    },
    {
      "cell_type": "markdown",
      "metadata": {
        "id": "kAShdzDj_xX2"
      },
      "source": [
        "### Setting up for some time series analysis"
      ]
    },
    {
      "cell_type": "code",
      "metadata": {
        "id": "bM-ilNPl5mvj"
      },
      "source": [
        "df_by_date = df_all.groupby('Date', as_index=False).agg({'Temperature': 'mean',\n",
        "                                                        'Fuel_Price': 'mean',\n",
        "                                                        'CPI': 'mean',\n",
        "                                                        'Unemployment': 'mean', \n",
        "                                                        'Weekly_Sales': 'sum',\n",
        "                                                        'IsHoliday': 'mean'})"
      ],
      "execution_count": 13,
      "outputs": []
    },
    {
      "cell_type": "code",
      "metadata": {
        "id": "9iwVRNm95mvl"
      },
      "source": [
        "df_by_date.Date = pd.to_datetime(df_by_date.Date, errors='coerce')\n",
        "df_by_date.set_index('Date', inplace=True)"
      ],
      "execution_count": 14,
      "outputs": []
    },
    {
      "cell_type": "code",
      "metadata": {
        "id": "XliMivyu5mvl",
        "colab": {
          "base_uri": "https://localhost:8080/",
          "height": 228
        },
        "outputId": "85f8b30f-a4dd-4cc1-f8ba-ebc61d187592"
      },
      "source": [
        "df_by_date.head()"
      ],
      "execution_count": 15,
      "outputs": [
        {
          "output_type": "execute_result",
          "data": {
            "text/html": [
              "<div>\n",
              "<style scoped>\n",
              "    .dataframe tbody tr th:only-of-type {\n",
              "        vertical-align: middle;\n",
              "    }\n",
              "\n",
              "    .dataframe tbody tr th {\n",
              "        vertical-align: top;\n",
              "    }\n",
              "\n",
              "    .dataframe thead th {\n",
              "        text-align: right;\n",
              "    }\n",
              "</style>\n",
              "<table border=\"1\" class=\"dataframe\">\n",
              "  <thead>\n",
              "    <tr style=\"text-align: right;\">\n",
              "      <th></th>\n",
              "      <th>Temperature</th>\n",
              "      <th>Fuel_Price</th>\n",
              "      <th>CPI</th>\n",
              "      <th>Unemployment</th>\n",
              "      <th>Weekly_Sales</th>\n",
              "      <th>IsHoliday</th>\n",
              "    </tr>\n",
              "    <tr>\n",
              "      <th>Date</th>\n",
              "      <th></th>\n",
              "      <th></th>\n",
              "      <th></th>\n",
              "      <th></th>\n",
              "      <th></th>\n",
              "      <th></th>\n",
              "    </tr>\n",
              "  </thead>\n",
              "  <tbody>\n",
              "    <tr>\n",
              "      <th>2010-01-10</th>\n",
              "      <td>69.386998</td>\n",
              "      <td>2.733064</td>\n",
              "      <td>168.004935</td>\n",
              "      <td>8.433960</td>\n",
              "      <td>42239875.87</td>\n",
              "      <td>0</td>\n",
              "    </tr>\n",
              "    <tr>\n",
              "      <th>2010-02-04</th>\n",
              "      <td>52.587887</td>\n",
              "      <td>2.825453</td>\n",
              "      <td>167.377836</td>\n",
              "      <td>8.441092</td>\n",
              "      <td>50423831.26</td>\n",
              "      <td>0</td>\n",
              "    </tr>\n",
              "    <tr>\n",
              "      <th>2010-02-07</th>\n",
              "      <td>76.555955</td>\n",
              "      <td>2.793190</td>\n",
              "      <td>167.663264</td>\n",
              "      <td>8.373801</td>\n",
              "      <td>48917484.50</td>\n",
              "      <td>0</td>\n",
              "    </tr>\n",
              "    <tr>\n",
              "      <th>2010-02-19</th>\n",
              "      <td>37.038310</td>\n",
              "      <td>2.673666</td>\n",
              "      <td>167.338966</td>\n",
              "      <td>8.576351</td>\n",
              "      <td>48276993.78</td>\n",
              "      <td>0</td>\n",
              "    </tr>\n",
              "    <tr>\n",
              "      <th>2010-02-26</th>\n",
              "      <td>38.629563</td>\n",
              "      <td>2.685642</td>\n",
              "      <td>167.691019</td>\n",
              "      <td>8.561375</td>\n",
              "      <td>43968571.13</td>\n",
              "      <td>0</td>\n",
              "    </tr>\n",
              "  </tbody>\n",
              "</table>\n",
              "</div>"
            ],
            "text/plain": [
              "            Temperature  Fuel_Price  ...  Weekly_Sales  IsHoliday\n",
              "Date                                 ...                         \n",
              "2010-01-10    69.386998    2.733064  ...   42239875.87          0\n",
              "2010-02-04    52.587887    2.825453  ...   50423831.26          0\n",
              "2010-02-07    76.555955    2.793190  ...   48917484.50          0\n",
              "2010-02-19    37.038310    2.673666  ...   48276993.78          0\n",
              "2010-02-26    38.629563    2.685642  ...   43968571.13          0\n",
              "\n",
              "[5 rows x 6 columns]"
            ]
          },
          "metadata": {
            "tags": []
          },
          "execution_count": 15
        }
      ]
    },
    {
      "cell_type": "markdown",
      "metadata": {
        "id": "29yTY-_2_6dp"
      },
      "source": [
        "resampling (weekly, backfill) with some dummy dates in the middle as the above data doesn't have a definitive frequency "
      ]
    },
    {
      "cell_type": "code",
      "metadata": {
        "id": "2fFxOS185mvm"
      },
      "source": [
        "df_by_date_new = df_by_date.resample('W').mean().fillna(method='bfill')"
      ],
      "execution_count": 16,
      "outputs": []
    },
    {
      "cell_type": "code",
      "metadata": {
        "id": "1tCF8OAm5mvm",
        "colab": {
          "base_uri": "https://localhost:8080/",
          "height": 378
        },
        "outputId": "9de11ba2-8e2e-41f5-b0fa-5d9cfa56b65a"
      },
      "source": [
        "df_by_date_new[0:10]"
      ],
      "execution_count": 17,
      "outputs": [
        {
          "output_type": "execute_result",
          "data": {
            "text/html": [
              "<div>\n",
              "<style scoped>\n",
              "    .dataframe tbody tr th:only-of-type {\n",
              "        vertical-align: middle;\n",
              "    }\n",
              "\n",
              "    .dataframe tbody tr th {\n",
              "        vertical-align: top;\n",
              "    }\n",
              "\n",
              "    .dataframe thead th {\n",
              "        text-align: right;\n",
              "    }\n",
              "</style>\n",
              "<table border=\"1\" class=\"dataframe\">\n",
              "  <thead>\n",
              "    <tr style=\"text-align: right;\">\n",
              "      <th></th>\n",
              "      <th>Temperature</th>\n",
              "      <th>Fuel_Price</th>\n",
              "      <th>CPI</th>\n",
              "      <th>Unemployment</th>\n",
              "      <th>Weekly_Sales</th>\n",
              "      <th>IsHoliday</th>\n",
              "    </tr>\n",
              "    <tr>\n",
              "      <th>Date</th>\n",
              "      <th></th>\n",
              "      <th></th>\n",
              "      <th></th>\n",
              "      <th></th>\n",
              "      <th></th>\n",
              "      <th></th>\n",
              "    </tr>\n",
              "  </thead>\n",
              "  <tbody>\n",
              "    <tr>\n",
              "      <th>2010-01-10</th>\n",
              "      <td>69.386998</td>\n",
              "      <td>2.733064</td>\n",
              "      <td>168.004935</td>\n",
              "      <td>8.433960</td>\n",
              "      <td>4.223988e+07</td>\n",
              "      <td>0.0</td>\n",
              "    </tr>\n",
              "    <tr>\n",
              "      <th>2010-01-17</th>\n",
              "      <td>64.571921</td>\n",
              "      <td>2.809321</td>\n",
              "      <td>167.520550</td>\n",
              "      <td>8.407446</td>\n",
              "      <td>4.967066e+07</td>\n",
              "      <td>0.0</td>\n",
              "    </tr>\n",
              "    <tr>\n",
              "      <th>2010-01-24</th>\n",
              "      <td>64.571921</td>\n",
              "      <td>2.809321</td>\n",
              "      <td>167.520550</td>\n",
              "      <td>8.407446</td>\n",
              "      <td>4.967066e+07</td>\n",
              "      <td>0.0</td>\n",
              "    </tr>\n",
              "    <tr>\n",
              "      <th>2010-01-31</th>\n",
              "      <td>64.571921</td>\n",
              "      <td>2.809321</td>\n",
              "      <td>167.520550</td>\n",
              "      <td>8.407446</td>\n",
              "      <td>4.967066e+07</td>\n",
              "      <td>0.0</td>\n",
              "    </tr>\n",
              "    <tr>\n",
              "      <th>2010-02-07</th>\n",
              "      <td>64.571921</td>\n",
              "      <td>2.809321</td>\n",
              "      <td>167.520550</td>\n",
              "      <td>8.407446</td>\n",
              "      <td>4.967066e+07</td>\n",
              "      <td>0.0</td>\n",
              "    </tr>\n",
              "    <tr>\n",
              "      <th>2010-02-14</th>\n",
              "      <td>37.038310</td>\n",
              "      <td>2.673666</td>\n",
              "      <td>167.338966</td>\n",
              "      <td>8.576351</td>\n",
              "      <td>4.827699e+07</td>\n",
              "      <td>0.0</td>\n",
              "    </tr>\n",
              "    <tr>\n",
              "      <th>2010-02-21</th>\n",
              "      <td>37.038310</td>\n",
              "      <td>2.673666</td>\n",
              "      <td>167.338966</td>\n",
              "      <td>8.576351</td>\n",
              "      <td>4.827699e+07</td>\n",
              "      <td>0.0</td>\n",
              "    </tr>\n",
              "    <tr>\n",
              "      <th>2010-02-28</th>\n",
              "      <td>38.629563</td>\n",
              "      <td>2.685642</td>\n",
              "      <td>167.691019</td>\n",
              "      <td>8.561375</td>\n",
              "      <td>4.396857e+07</td>\n",
              "      <td>0.0</td>\n",
              "    </tr>\n",
              "    <tr>\n",
              "      <th>2010-03-07</th>\n",
              "      <td>58.629843</td>\n",
              "      <td>2.816753</td>\n",
              "      <td>167.988959</td>\n",
              "      <td>8.405245</td>\n",
              "      <td>4.855164e+07</td>\n",
              "      <td>0.0</td>\n",
              "    </tr>\n",
              "    <tr>\n",
              "      <th>2010-03-14</th>\n",
              "      <td>58.629843</td>\n",
              "      <td>2.816753</td>\n",
              "      <td>167.988959</td>\n",
              "      <td>8.405245</td>\n",
              "      <td>4.855164e+07</td>\n",
              "      <td>0.0</td>\n",
              "    </tr>\n",
              "  </tbody>\n",
              "</table>\n",
              "</div>"
            ],
            "text/plain": [
              "            Temperature  Fuel_Price  ...  Weekly_Sales  IsHoliday\n",
              "Date                                 ...                         \n",
              "2010-01-10    69.386998    2.733064  ...  4.223988e+07        0.0\n",
              "2010-01-17    64.571921    2.809321  ...  4.967066e+07        0.0\n",
              "2010-01-24    64.571921    2.809321  ...  4.967066e+07        0.0\n",
              "2010-01-31    64.571921    2.809321  ...  4.967066e+07        0.0\n",
              "2010-02-07    64.571921    2.809321  ...  4.967066e+07        0.0\n",
              "2010-02-14    37.038310    2.673666  ...  4.827699e+07        0.0\n",
              "2010-02-21    37.038310    2.673666  ...  4.827699e+07        0.0\n",
              "2010-02-28    38.629563    2.685642  ...  4.396857e+07        0.0\n",
              "2010-03-07    58.629843    2.816753  ...  4.855164e+07        0.0\n",
              "2010-03-14    58.629843    2.816753  ...  4.855164e+07        0.0\n",
              "\n",
              "[10 rows x 6 columns]"
            ]
          },
          "metadata": {
            "tags": []
          },
          "execution_count": 17
        }
      ]
    },
    {
      "cell_type": "markdown",
      "metadata": {
        "id": "_WgQE30zLymh"
      },
      "source": [
        "### Decomposing"
      ]
    },
    {
      "cell_type": "code",
      "metadata": {
        "id": "LHihkavN5mvm",
        "colab": {
          "base_uri": "https://localhost:8080/"
        },
        "outputId": "2746b846-15ea-45d4-9885-2e06e82b287f"
      },
      "source": [
        "from statsmodels.tsa.seasonal import seasonal_decompose"
      ],
      "execution_count": 18,
      "outputs": [
        {
          "output_type": "stream",
          "text": [
            "/usr/local/lib/python3.7/dist-packages/statsmodels/tools/_testing.py:19: FutureWarning: pandas.util.testing is deprecated. Use the functions in the public API at pandas.testing instead.\n",
            "  import pandas.util.testing as tm\n"
          ],
          "name": "stderr"
        }
      ]
    },
    {
      "cell_type": "markdown",
      "metadata": {
        "id": "8tB2ZVKu5mvm"
      },
      "source": [
        "Seasonal Decompose gives the decomposition of the time series into its estimated trend component, estimated seasonal component, and estimated residual. We can also plot the original data to look at what components of the data influence its true value the most.  "
      ]
    },
    {
      "cell_type": "code",
      "metadata": {
        "scrolled": false,
        "id": "cuoGKdbb5mvn",
        "colab": {
          "base_uri": "https://localhost:8080/",
          "height": 1000
        },
        "outputId": "17f4e8af-f1be-4276-8c8f-d012fe241da9"
      },
      "source": [
        "multi_plot = seasonal_decompose(df_by_date_new['Weekly_Sales'], model = 'add', extrapolate_trend='freq')\n",
        "\n",
        "plt.figure(figsize=(20,5))\n",
        "multi_plot.observed.plot(title = 'weekly sales')\n",
        "\n",
        "plt.figure(figsize=(20,5))\n",
        "multi_plot.trend.plot(title = 'trend')\n",
        "\n",
        "plt.figure(figsize=(20,5))\n",
        "multi_plot.seasonal.plot(title = 'seasonal')\n",
        "\n",
        "plt.figure(figsize=(20,5))\n",
        "multi_plot.resid.plot(title = 'residual');"
      ],
      "execution_count": 19,
      "outputs": [
        {
          "output_type": "display_data",
          "data": {
            "image/png": "[encoded data removed]",
            "text/plain": [
              "<Figure size 1440x360 with 1 Axes>"
            ]
          },
          "metadata": {
            "tags": [],
            "needs_background": "light"
          }
        },
        {
          "output_type": "display_data",
          "data": {
            "image/png": "[encoded data removed]",
            "text/plain": [
              "<Figure size 1440x360 with 1 Axes>"
            ]
          },
          "metadata": {
            "tags": [],
            "needs_background": "light"
          }
        },
        {
          "output_type": "display_data",
          "data": {
            "image/png": "[encoded data removed]",
            "text/plain": [
              "<Figure size 1440x360 with 1 Axes>"
            ]
          },
          "metadata": {
            "tags": [],
            "needs_background": "light"
          }
        },
        {
          "output_type": "display_data",
          "data": {
            "image/png": "[encoded data removed]",
            "text/plain": [
              "<Figure size 1440x360 with 1 Axes>"
            ]
          },
          "metadata": {
            "tags": [],
            "needs_background": "light"
          }
        }
      ]
    },
    {
      "cell_type": "markdown",
      "metadata": {
        "id": "WZE1JAlELATg"
      },
      "source": [
        "As it can be observed, the series is strongly influenced by the seasonal component "
      ]
    },
    {
      "cell_type": "markdown",
      "metadata": {
        "id": "Bn6KqCrvL2Ej"
      },
      "source": [
        "### Correlations"
      ]
    },
    {
      "cell_type": "code",
      "metadata": {
        "scrolled": false,
        "id": "_DgUomj_5mvn",
        "colab": {
          "base_uri": "https://localhost:8080/",
          "height": 488
        },
        "outputId": "1a491e4a-8ed5-4057-809f-ae40022d1e89"
      },
      "source": [
        "plt.figure(figsize=(15,8))\n",
        "sns.heatmap(df_by_date_new.corr('spearman'), annot = True);"
      ],
      "execution_count": null,
      "outputs": [
        {
          "output_type": "display_data",
          "data": {
            "image/png": "[encoded data removed]",
            "text/plain": [
              "<Figure size 1080x576 with 2 Axes>"
            ]
          },
          "metadata": {
            "tags": [],
            "needs_background": "light"
          }
        }
      ]
    },
    {
      "cell_type": "markdown",
      "metadata": {
        "id": "R94YPEVj5mvn"
      },
      "source": [
        "strong +ve correlation b/w Fuel_Price and CPI and strong -ve correlations b/w Unmeployment and Fuel_Price and Unemployment and CPI. surprisingly, unemployment rate doesn't really seem to affect the weekly sales (directly at least)"
      ]
    },
    {
      "cell_type": "markdown",
      "metadata": {
        "id": "Oo-uaFUtL6cY"
      },
      "source": [
        "### Holiday weeks"
      ]
    },
    {
      "cell_type": "code",
      "metadata": {
        "id": "H-5EDcTF5mvo",
        "colab": {
          "base_uri": "https://localhost:8080/",
          "height": 508
        },
        "outputId": "e702cc25-0ef6-4d57-ecc6-9687c2aed679"
      },
      "source": [
        "plt.figure(figsize=(15,8))\n",
        "sns.boxplot(data = df_by_date, x = 'IsHoliday', y = 'Weekly_Sales');"
      ],
      "execution_count": null,
      "outputs": [
        {
          "output_type": "display_data",
          "data": {
            "image/png": "[encoded data removed]",
            "text/plain": [
              "<Figure size 1080x576 with 1 Axes>"
            ]
          },
          "metadata": {
            "tags": [],
            "needs_background": "light"
          }
        }
      ]
    },
    {
      "cell_type": "markdown",
      "metadata": {
        "id": "FvnqKO5R5mvo"
      },
      "source": [
        "holiday weeks don't necessarily mean that the weekly sales go up but it is often the case"
      ]
    },
    {
      "cell_type": "markdown",
      "metadata": {
        "id": "RGfcML44AnY-"
      },
      "source": [
        "###Analysis by store"
      ]
    },
    {
      "cell_type": "code",
      "metadata": {
        "id": "cpHeKymN5mvo"
      },
      "source": [
        "df_by_store = df_all.groupby('Store').agg({'Temperature': 'mean',\n",
        "                                           'Fuel_Price': 'mean',\n",
        "                                           'CPI': 'mean',\n",
        "                                           'Unemployment': 'mean', \n",
        "                                           'Weekly_Sales': 'sum',\n",
        "                                           'IsHoliday': 'mean',\n",
        "                                           'Type': 'max'})"
      ],
      "execution_count": null,
      "outputs": []
    },
    {
      "cell_type": "code",
      "metadata": {
        "id": "uMyAFv1R5mvo",
        "colab": {
          "base_uri": "https://localhost:8080/",
          "height": 288
        },
        "outputId": "df637bea-396a-45fd-d035-2135baa1807d"
      },
      "source": [
        "df_by_store.describe()"
      ],
      "execution_count": null,
      "outputs": [
        {
          "output_type": "execute_result",
          "data": {
            "text/html": [
              "<div>\n",
              "<style scoped>\n",
              "    .dataframe tbody tr th:only-of-type {\n",
              "        vertical-align: middle;\n",
              "    }\n",
              "\n",
              "    .dataframe tbody tr th {\n",
              "        vertical-align: top;\n",
              "    }\n",
              "\n",
              "    .dataframe thead th {\n",
              "        text-align: right;\n",
              "    }\n",
              "</style>\n",
              "<table border=\"1\" class=\"dataframe\">\n",
              "  <thead>\n",
              "    <tr style=\"text-align: right;\">\n",
              "      <th></th>\n",
              "      <th>Temperature</th>\n",
              "      <th>Fuel_Price</th>\n",
              "      <th>CPI</th>\n",
              "      <th>Unemployment</th>\n",
              "      <th>Weekly_Sales</th>\n",
              "      <th>IsHoliday</th>\n",
              "      <th>Type</th>\n",
              "    </tr>\n",
              "  </thead>\n",
              "  <tbody>\n",
              "    <tr>\n",
              "      <th>count</th>\n",
              "      <td>45.000000</td>\n",
              "      <td>45.000000</td>\n",
              "      <td>45.000000</td>\n",
              "      <td>45.000000</td>\n",
              "      <td>4.500000e+01</td>\n",
              "      <td>45.000000</td>\n",
              "      <td>45.000000</td>\n",
              "    </tr>\n",
              "    <tr>\n",
              "      <th>mean</th>\n",
              "      <td>60.620223</td>\n",
              "      <td>3.360718</td>\n",
              "      <td>171.595976</td>\n",
              "      <td>7.995321</td>\n",
              "      <td>1.497160e+08</td>\n",
              "      <td>0.070326</td>\n",
              "      <td>2.355556</td>\n",
              "    </tr>\n",
              "    <tr>\n",
              "      <th>std</th>\n",
              "      <td>9.806327</td>\n",
              "      <td>0.150153</td>\n",
              "      <td>39.664650</td>\n",
              "      <td>1.786202</td>\n",
              "      <td>7.816756e+07</td>\n",
              "      <td>0.000439</td>\n",
              "      <td>0.712089</td>\n",
              "    </tr>\n",
              "    <tr>\n",
              "      <th>min</th>\n",
              "      <td>39.602815</td>\n",
              "      <td>3.210664</td>\n",
              "      <td>128.663519</td>\n",
              "      <td>4.793244</td>\n",
              "      <td>3.716022e+07</td>\n",
              "      <td>0.069248</td>\n",
              "      <td>1.000000</td>\n",
              "    </tr>\n",
              "    <tr>\n",
              "      <th>25%</th>\n",
              "      <td>53.291597</td>\n",
              "      <td>3.220912</td>\n",
              "      <td>135.087130</td>\n",
              "      <td>7.004905</td>\n",
              "      <td>7.956575e+07</td>\n",
              "      <td>0.070050</td>\n",
              "      <td>2.000000</td>\n",
              "    </tr>\n",
              "    <tr>\n",
              "      <th>50%</th>\n",
              "      <td>58.413297</td>\n",
              "      <td>3.288495</td>\n",
              "      <td>186.287850</td>\n",
              "      <td>7.860290</td>\n",
              "      <td>1.382498e+08</td>\n",
              "      <td>0.070376</td>\n",
              "      <td>2.000000</td>\n",
              "    </tr>\n",
              "    <tr>\n",
              "      <th>75%</th>\n",
              "      <td>69.639935</td>\n",
              "      <td>3.443894</td>\n",
              "      <td>214.872865</td>\n",
              "      <td>8.585175</td>\n",
              "      <td>1.996139e+08</td>\n",
              "      <td>0.070598</td>\n",
              "      <td>3.000000</td>\n",
              "    </tr>\n",
              "    <tr>\n",
              "      <th>max</th>\n",
              "      <td>76.798159</td>\n",
              "      <td>3.617363</td>\n",
              "      <td>219.683641</td>\n",
              "      <td>13.116094</td>\n",
              "      <td>3.013978e+08</td>\n",
              "      <td>0.071270</td>\n",
              "      <td>3.000000</td>\n",
              "    </tr>\n",
              "  </tbody>\n",
              "</table>\n",
              "</div>"
            ],
            "text/plain": [
              "       Temperature  Fuel_Price         CPI  ...  Weekly_Sales  IsHoliday       Type\n",
              "count    45.000000   45.000000   45.000000  ...  4.500000e+01  45.000000  45.000000\n",
              "mean     60.620223    3.360718  171.595976  ...  1.497160e+08   0.070326   2.355556\n",
              "std       9.806327    0.150153   39.664650  ...  7.816756e+07   0.000439   0.712089\n",
              "min      39.602815    3.210664  128.663519  ...  3.716022e+07   0.069248   1.000000\n",
              "25%      53.291597    3.220912  135.087130  ...  7.956575e+07   0.070050   2.000000\n",
              "50%      58.413297    3.288495  186.287850  ...  1.382498e+08   0.070376   2.000000\n",
              "75%      69.639935    3.443894  214.872865  ...  1.996139e+08   0.070598   3.000000\n",
              "max      76.798159    3.617363  219.683641  ...  3.013978e+08   0.071270   3.000000\n",
              "\n",
              "[8 rows x 7 columns]"
            ]
          },
          "metadata": {
            "tags": []
          },
          "execution_count": 47
        }
      ]
    },
    {
      "cell_type": "code",
      "metadata": {
        "id": "o6bxpq0I5mvp",
        "colab": {
          "base_uri": "https://localhost:8080/",
          "height": 523
        },
        "outputId": "adb435fc-95b8-41ed-f405-300e853112ce"
      },
      "source": [
        "plt.figure(figsize=(15,8))\n",
        "sns.boxplot(data = df_by_store, x = 'Type', y = 'Weekly_Sales')\n",
        "plt.tight_layout()"
      ],
      "execution_count": null,
      "outputs": [
        {
          "output_type": "display_data",
          "data": {
            "image/png": "[encoded data removed]",
            "text/plain": [
              "<Figure size 1080x576 with 1 Axes>"
            ]
          },
          "metadata": {
            "tags": [],
            "needs_background": "light"
          }
        }
      ]
    },
    {
      "cell_type": "markdown",
      "metadata": {
        "id": "Q_z3ky_AMMeH"
      },
      "source": [
        "###Net sales (monthly)"
      ]
    },
    {
      "cell_type": "code",
      "metadata": {
        "id": "0HjE3-Z45mvq",
        "colab": {
          "base_uri": "https://localhost:8080/",
          "height": 508
        },
        "outputId": "9391b8cc-34e5-452d-e5c1-28d8dbad09de"
      },
      "source": [
        "monthly_sales = df_all.groupby(df_all.Date.dt.month).agg({'Weekly_Sales':'sum'})\n",
        "plt.figure(figsize = (15,8))\n",
        "sns.barplot(x = monthly_sales.index, y = monthly_sales.Weekly_Sales);"
      ],
      "execution_count": null,
      "outputs": [
        {
          "output_type": "display_data",
          "data": {
            "image/png": "[encoded data removed]",
            "text/plain": [
              "<Figure size 1080x576 with 1 Axes>"
            ]
          },
          "metadata": {
            "tags": [],
            "needs_background": "light"
          }
        }
      ]
    },
    {
      "cell_type": "markdown",
      "metadata": {
        "id": "GLMNJ00CMBtR"
      },
      "source": [
        "### Departments"
      ]
    },
    {
      "cell_type": "code",
      "metadata": {
        "id": "7D00j8MC5mvq"
      },
      "source": [
        "df_by_dept = df_all.groupby('Dept', as_index=False).agg({'Weekly_Sales':'sum'})"
      ],
      "execution_count": null,
      "outputs": []
    },
    {
      "cell_type": "code",
      "metadata": {
        "colab": {
          "base_uri": "https://localhost:8080/",
          "height": 407
        },
        "id": "S_Faaw8ACPSE",
        "outputId": "0c31bc9a-a40b-42dd-92d9-af18eed15747"
      },
      "source": [
        "df_by_dept"
      ],
      "execution_count": null,
      "outputs": [
        {
          "output_type": "execute_result",
          "data": {
            "text/html": [
              "<div>\n",
              "<style scoped>\n",
              "    .dataframe tbody tr th:only-of-type {\n",
              "        vertical-align: middle;\n",
              "    }\n",
              "\n",
              "    .dataframe tbody tr th {\n",
              "        vertical-align: top;\n",
              "    }\n",
              "\n",
              "    .dataframe thead th {\n",
              "        text-align: right;\n",
              "    }\n",
              "</style>\n",
              "<table border=\"1\" class=\"dataframe\">\n",
              "  <thead>\n",
              "    <tr style=\"text-align: right;\">\n",
              "      <th></th>\n",
              "      <th>Dept</th>\n",
              "      <th>Weekly_Sales</th>\n",
              "    </tr>\n",
              "  </thead>\n",
              "  <tbody>\n",
              "    <tr>\n",
              "      <th>0</th>\n",
              "      <td>1</td>\n",
              "      <td>1.236388e+08</td>\n",
              "    </tr>\n",
              "    <tr>\n",
              "      <th>1</th>\n",
              "      <td>2</td>\n",
              "      <td>2.806112e+08</td>\n",
              "    </tr>\n",
              "    <tr>\n",
              "      <th>2</th>\n",
              "      <td>3</td>\n",
              "      <td>7.589245e+07</td>\n",
              "    </tr>\n",
              "    <tr>\n",
              "      <th>3</th>\n",
              "      <td>4</td>\n",
              "      <td>1.671467e+08</td>\n",
              "    </tr>\n",
              "    <tr>\n",
              "      <th>4</th>\n",
              "      <td>5</td>\n",
              "      <td>1.356074e+08</td>\n",
              "    </tr>\n",
              "    <tr>\n",
              "      <th>...</th>\n",
              "      <td>...</td>\n",
              "      <td>...</td>\n",
              "    </tr>\n",
              "    <tr>\n",
              "      <th>76</th>\n",
              "      <td>95</td>\n",
              "      <td>4.493202e+08</td>\n",
              "    </tr>\n",
              "    <tr>\n",
              "      <th>77</th>\n",
              "      <td>96</td>\n",
              "      <td>7.383392e+07</td>\n",
              "    </tr>\n",
              "    <tr>\n",
              "      <th>78</th>\n",
              "      <td>97</td>\n",
              "      <td>8.949651e+07</td>\n",
              "    </tr>\n",
              "    <tr>\n",
              "      <th>79</th>\n",
              "      <td>98</td>\n",
              "      <td>3.982892e+07</td>\n",
              "    </tr>\n",
              "    <tr>\n",
              "      <th>80</th>\n",
              "      <td>99</td>\n",
              "      <td>3.581499e+05</td>\n",
              "    </tr>\n",
              "  </tbody>\n",
              "</table>\n",
              "<p>81 rows × 2 columns</p>\n",
              "</div>"
            ],
            "text/plain": [
              "    Dept  Weekly_Sales\n",
              "0      1  1.236388e+08\n",
              "1      2  2.806112e+08\n",
              "2      3  7.589245e+07\n",
              "3      4  1.671467e+08\n",
              "4      5  1.356074e+08\n",
              "..   ...           ...\n",
              "76    95  4.493202e+08\n",
              "77    96  7.383392e+07\n",
              "78    97  8.949651e+07\n",
              "79    98  3.982892e+07\n",
              "80    99  3.581499e+05\n",
              "\n",
              "[81 rows x 2 columns]"
            ]
          },
          "metadata": {
            "tags": []
          },
          "execution_count": 88
        }
      ]
    },
    {
      "cell_type": "code",
      "metadata": {
        "id": "Ir-YNFoF5mvr"
      },
      "source": [
        "df_by_dept.sort_values(by = 'Weekly_Sales', ascending = False, inplace = True)"
      ],
      "execution_count": null,
      "outputs": []
    },
    {
      "cell_type": "code",
      "metadata": {
        "id": "IKSxD5Ia5mvr"
      },
      "source": [
        "df_by_dept.reset_index(drop=True, inplace=True)"
      ],
      "execution_count": null,
      "outputs": []
    },
    {
      "cell_type": "code",
      "metadata": {
        "colab": {
          "base_uri": "https://localhost:8080/",
          "height": 407
        },
        "id": "5WODQiuKDNNQ",
        "outputId": "b7bc940b-6830-4b96-de48-b58b9614a1ce"
      },
      "source": [
        "df_by_dept"
      ],
      "execution_count": null,
      "outputs": [
        {
          "output_type": "execute_result",
          "data": {
            "text/html": [
              "<div>\n",
              "<style scoped>\n",
              "    .dataframe tbody tr th:only-of-type {\n",
              "        vertical-align: middle;\n",
              "    }\n",
              "\n",
              "    .dataframe tbody tr th {\n",
              "        vertical-align: top;\n",
              "    }\n",
              "\n",
              "    .dataframe thead th {\n",
              "        text-align: right;\n",
              "    }\n",
              "</style>\n",
              "<table border=\"1\" class=\"dataframe\">\n",
              "  <thead>\n",
              "    <tr style=\"text-align: right;\">\n",
              "      <th></th>\n",
              "      <th>Dept</th>\n",
              "      <th>Weekly_Sales</th>\n",
              "    </tr>\n",
              "  </thead>\n",
              "  <tbody>\n",
              "    <tr>\n",
              "      <th>0</th>\n",
              "      <td>92</td>\n",
              "      <td>4.839433e+08</td>\n",
              "    </tr>\n",
              "    <tr>\n",
              "      <th>1</th>\n",
              "      <td>95</td>\n",
              "      <td>4.493202e+08</td>\n",
              "    </tr>\n",
              "    <tr>\n",
              "      <th>2</th>\n",
              "      <td>38</td>\n",
              "      <td>3.931181e+08</td>\n",
              "    </tr>\n",
              "    <tr>\n",
              "      <th>3</th>\n",
              "      <td>72</td>\n",
              "      <td>3.057252e+08</td>\n",
              "    </tr>\n",
              "    <tr>\n",
              "      <th>4</th>\n",
              "      <td>90</td>\n",
              "      <td>2.910685e+08</td>\n",
              "    </tr>\n",
              "    <tr>\n",
              "      <th>...</th>\n",
              "      <td>...</td>\n",
              "      <td>...</td>\n",
              "    </tr>\n",
              "    <tr>\n",
              "      <th>76</th>\n",
              "      <td>51</td>\n",
              "      <td>3.057283e+04</td>\n",
              "    </tr>\n",
              "    <tr>\n",
              "      <th>77</th>\n",
              "      <td>78</td>\n",
              "      <td>1.714710e+03</td>\n",
              "    </tr>\n",
              "    <tr>\n",
              "      <th>78</th>\n",
              "      <td>39</td>\n",
              "      <td>1.779800e+02</td>\n",
              "    </tr>\n",
              "    <tr>\n",
              "      <th>79</th>\n",
              "      <td>43</td>\n",
              "      <td>1.432000e+01</td>\n",
              "    </tr>\n",
              "    <tr>\n",
              "      <th>80</th>\n",
              "      <td>47</td>\n",
              "      <td>-4.962930e+03</td>\n",
              "    </tr>\n",
              "  </tbody>\n",
              "</table>\n",
              "<p>81 rows × 2 columns</p>\n",
              "</div>"
            ],
            "text/plain": [
              "    Dept  Weekly_Sales\n",
              "0     92  4.839433e+08\n",
              "1     95  4.493202e+08\n",
              "2     38  3.931181e+08\n",
              "3     72  3.057252e+08\n",
              "4     90  2.910685e+08\n",
              "..   ...           ...\n",
              "76    51  3.057283e+04\n",
              "77    78  1.714710e+03\n",
              "78    39  1.779800e+02\n",
              "79    43  1.432000e+01\n",
              "80    47 -4.962930e+03\n",
              "\n",
              "[81 rows x 2 columns]"
            ]
          },
          "metadata": {
            "tags": []
          },
          "execution_count": 91
        }
      ]
    },
    {
      "cell_type": "markdown",
      "metadata": {
        "id": "EkPAz86N5mvs"
      },
      "source": [
        "best and worst performing departments can be seen above"
      ]
    },
    {
      "cell_type": "code",
      "metadata": {
        "id": "97WWmm8w5mvs",
        "colab": {
          "base_uri": "https://localhost:8080/",
          "height": 290
        },
        "outputId": "5e83b544-e083-4864-df38-44ace93c1864"
      },
      "source": [
        "sns.barplot(y='Weekly_Sales', x='Dept', data=df_by_dept[:5]);"
      ],
      "execution_count": null,
      "outputs": [
        {
          "output_type": "display_data",
          "data": {
            "image/png": "[encoded data removed]",
            "text/plain": [
              "<Figure size 432x288 with 1 Axes>"
            ]
          },
          "metadata": {
            "tags": [],
            "needs_background": "light"
          }
        }
      ]
    },
    {
      "cell_type": "code",
      "metadata": {
        "id": "_2LdXLw45mvs",
        "colab": {
          "base_uri": "https://localhost:8080/",
          "height": 279
        },
        "outputId": "b6076ab2-1d9f-491b-8f2f-9d75846d1bae"
      },
      "source": [
        "sns.barplot(y='Weekly_Sales', x='Dept', data=df_by_dept[-5:]);"
      ],
      "execution_count": null,
      "outputs": [
        {
          "output_type": "display_data",
          "data": {
            "image/png": "[encoded data removed]",
            "text/plain": [
              "<Figure size 432x288 with 1 Axes>"
            ]
          },
          "metadata": {
            "tags": [],
            "needs_background": "light"
          }
        }
      ]
    },
    {
      "cell_type": "markdown",
      "metadata": {
        "id": "gqQoUmBR5mvx"
      },
      "source": [
        "# Forecasting using the Holt-Winters Model"
      ]
    },
    {
      "cell_type": "markdown",
      "metadata": {
        "id": "p-N5U6Ef5mv5"
      },
      "source": [
        "Exponential smoothing is a technique for smoothening time series data by giving different weights which are exponentially decreasing over time, unlike simple moving average method which assigns equal weightage to all observations.\n",
        "Holt Winters exponential smoothening applies exponential smoothing three times, usually done when high frequency signal has to be removed."
      ]
    },
    {
      "cell_type": "markdown",
      "metadata": {
        "id": "BfOvblMAJ5iG"
      },
      "source": [
        "### Train and test on 2012 data to determine accuracy"
      ]
    },
    {
      "cell_type": "code",
      "metadata": {
        "id": "OcgZsOtzMq1b"
      },
      "source": [
        "from statsmodels.tsa.holtwinters import ExponentialSmoothing"
      ],
      "execution_count": 20,
      "outputs": []
    },
    {
      "cell_type": "code",
      "metadata": {
        "scrolled": true,
        "id": "n-ZRmLwF5mv-",
        "colab": {
          "base_uri": "https://localhost:8080/"
        },
        "outputId": "c3b5fbd5-3284-4f28-fa76-1682eff7e388"
      },
      "source": [
        "fit_model = ExponentialSmoothing(df_by_date_new['Weekly_Sales'][:120],\n",
        "                                 trend = 'add',\n",
        "                                 seasonal = 'add',\n",
        "                                 seasonal_periods = 52).fit()\n",
        "\n",
        "prediction = fit_model.forecast(34)\n",
        "prediction"
      ],
      "execution_count": 21,
      "outputs": [
        {
          "output_type": "execute_result",
          "data": {
            "text/plain": [
              "2012-04-29    4.430014e+07\n",
              "2012-05-06    4.830861e+07\n",
              "2012-05-13    4.584694e+07\n",
              "2012-05-20    4.455206e+07\n",
              "2012-05-27    4.598154e+07\n",
              "2012-06-03    4.745504e+07\n",
              "2012-06-10    4.798261e+07\n",
              "2012-06-17    4.790966e+07\n",
              "2012-06-24    4.639954e+07\n",
              "2012-07-01    4.391295e+07\n",
              "2012-07-08    4.792269e+07\n",
              "2012-07-15    4.616674e+07\n",
              "2012-07-22    4.578205e+07\n",
              "2012-07-29    4.432409e+07\n",
              "2012-08-05    4.726275e+07\n",
              "2012-08-12    4.725167e+07\n",
              "2012-08-19    4.736134e+07\n",
              "2012-08-26    4.764000e+07\n",
              "2012-09-02    4.719190e+07\n",
              "2012-09-09    4.725656e+07\n",
              "2012-09-16    4.922033e+07\n",
              "2012-09-23    4.272830e+07\n",
              "2012-09-30    4.275668e+07\n",
              "2012-10-07    4.762575e+07\n",
              "2012-10-14    4.514605e+07\n",
              "2012-10-21    4.573771e+07\n",
              "2012-10-28    4.575267e+07\n",
              "2012-11-04    4.631955e+07\n",
              "2012-11-11    4.820248e+07\n",
              "2012-11-18    4.632473e+07\n",
              "2012-11-25    6.650515e+07\n",
              "2012-12-02    4.634033e+07\n",
              "2012-12-09    4.623113e+07\n",
              "2012-12-16    6.028879e+07\n",
              "Freq: W-SUN, dtype: float64"
            ]
          },
          "metadata": {
            "tags": []
          },
          "execution_count": 21
        }
      ]
    },
    {
      "cell_type": "code",
      "metadata": {
        "id": "5sr6KcEf5mwA",
        "colab": {
          "base_uri": "https://localhost:8080/",
          "height": 602
        },
        "outputId": "0af6ecb5-1ff5-4b49-977f-6e3d9b981e93"
      },
      "source": [
        "plt.figure(figsize=(20,10))\n",
        "plt.plot(df_by_date_new.index[120:], prediction, label = 'predicted')\n",
        "plt.plot(df_by_date_new.index[120:], df_by_date_new.Weekly_Sales[120:], label = 'actual')\n",
        "plt.legend();"
      ],
      "execution_count": 22,
      "outputs": [
        {
          "output_type": "display_data",
          "data": {
            "image/png": "[encoded data removed]",
            "text/plain": [
              "<Figure size 1440x720 with 1 Axes>"
            ]
          },
          "metadata": {
            "tags": [],
            "needs_background": "light"
          }
        }
      ]
    },
    {
      "cell_type": "code",
      "metadata": {
        "id": "QYE3xdeG5mwB",
        "colab": {
          "base_uri": "https://localhost:8080/"
        },
        "outputId": "3397d64a-e881-43a2-d0f6-63f8391aaba0"
      },
      "source": [
        "def mean_absolute_percentage_error(y_true, y_pred): \n",
        "    return np.mean(np.abs((y_true - y_pred) / y_true)) * 100\n",
        "print(\"Mean Absolute Percentage Error = {a}%\".format(a=mean_absolute_percentage_error(df_by_date_new.Weekly_Sales[120:],prediction)))"
      ],
      "execution_count": 23,
      "outputs": [
        {
          "output_type": "stream",
          "text": [
            "Mean Absolute Percentage Error = 4.786445001829046%\n"
          ],
          "name": "stdout"
        }
      ]
    },
    {
      "cell_type": "code",
      "metadata": {
        "id": "IkWyYLoL5mwB"
      },
      "source": [
        ""
      ],
      "execution_count": null,
      "outputs": []
    },
    {
      "cell_type": "markdown",
      "metadata": {
        "id": "GBWTHUZnG67u"
      },
      "source": [
        "### Forecasting 2013 sales"
      ]
    },
    {
      "cell_type": "code",
      "metadata": {
        "colab": {
          "base_uri": "https://localhost:8080/"
        },
        "id": "RsJU_NNaG29u",
        "outputId": "61529b1d-8fa7-4c2f-ec66-132488a16f00"
      },
      "source": [
        "fit_model = ExponentialSmoothing(df_by_date_new['Weekly_Sales'][:-2],\n",
        "                                 trend = 'add',\n",
        "                                 seasonal = 'add',\n",
        "                                 seasonal_periods = 52).fit()\n",
        "\n",
        "future_prediction = fit_model.forecast(56)\n",
        "future_prediction"
      ],
      "execution_count": null,
      "outputs": [
        {
          "output_type": "stream",
          "text": [
            "/usr/local/lib/python3.7/dist-packages/statsmodels/tsa/holtwinters.py:712: ConvergenceWarning: Optimization failed to converge. Check mle_retvals.\n",
            "  ConvergenceWarning)\n"
          ],
          "name": "stderr"
        },
        {
          "output_type": "execute_result",
          "data": {
            "text/plain": [
              "2012-12-09    4.505660e+07\n",
              "2012-12-16    5.929613e+07\n",
              "2012-12-23    7.677893e+07\n",
              "2012-12-30    4.339485e+07\n",
              "2013-01-06    4.585048e+07\n",
              "2013-01-13    4.055660e+07\n",
              "2013-01-20    4.065700e+07\n",
              "2013-01-27    3.887275e+07\n",
              "2013-02-03    4.572178e+07\n",
              "2013-02-10    4.812657e+07\n",
              "2013-02-17    4.826579e+07\n",
              "2013-02-24    4.372496e+07\n",
              "2013-03-03    4.508220e+07\n",
              "2013-03-10    4.544090e+07\n",
              "2013-03-17    4.471307e+07\n",
              "2013-03-24    4.276371e+07\n",
              "2013-03-31    4.402774e+07\n",
              "2013-04-07    4.555518e+07\n",
              "2013-04-14    4.489303e+07\n",
              "2013-04-21    4.404180e+07\n",
              "2013-04-28    4.223444e+07\n",
              "2013-05-05    4.599239e+07\n",
              "2013-05-12    4.538030e+07\n",
              "2013-05-19    4.442659e+07\n",
              "2013-05-26    4.552566e+07\n",
              "2013-06-02    4.362120e+07\n",
              "2013-06-09    4.929049e+07\n",
              "2013-06-16    4.612279e+07\n",
              "2013-06-23    4.514523e+07\n",
              "2013-06-30    4.380504e+07\n",
              "2013-07-07    4.506481e+07\n",
              "2013-07-14    4.459221e+07\n",
              "2013-07-21    4.353146e+07\n",
              "2013-07-28    4.170285e+07\n",
              "2013-08-04    4.647859e+07\n",
              "2013-08-11    4.633096e+07\n",
              "2013-08-18    4.456831e+07\n",
              "2013-08-25    4.461302e+07\n",
              "2013-09-01    4.431381e+07\n",
              "2013-09-08    4.455210e+07\n",
              "2013-09-15    4.234799e+07\n",
              "2013-09-22    4.102214e+07\n",
              "2013-09-29    4.061847e+07\n",
              "2013-10-06    4.626459e+07\n",
              "2013-10-13    4.378192e+07\n",
              "2013-10-20    4.187648e+07\n",
              "2013-10-27    4.215792e+07\n",
              "2013-11-03    4.340870e+07\n",
              "2013-11-10    4.365270e+07\n",
              "2013-11-17    4.261048e+07\n",
              "2013-11-24    4.787839e+07\n",
              "2013-12-01    4.280584e+07\n",
              "2013-12-08    4.249428e+07\n",
              "2013-12-15    5.673382e+07\n",
              "2013-12-22    7.421661e+07\n",
              "2013-12-29    4.083253e+07\n",
              "Freq: W-SUN, dtype: float64"
            ]
          },
          "metadata": {
            "tags": []
          },
          "execution_count": 146
        }
      ]
    },
    {
      "cell_type": "code",
      "metadata": {
        "colab": {
          "base_uri": "https://localhost:8080/",
          "height": 523
        },
        "id": "jNd3rljaG27N",
        "outputId": "9fa968d1-bceb-4df7-da56-da67b971bc45"
      },
      "source": [
        "plt.figure(figsize=(20, 10))\n",
        "plt.plot(df_by_date_new.index, df_by_date_new.Weekly_Sales)\n",
        "plt.plot(future_prediction, '--')\n",
        "plt.legend(['2010-2012 actual', '2013 forecast'])"
      ],
      "execution_count": null,
      "outputs": [
        {
          "output_type": "execute_result",
          "data": {
            "text/plain": [
              "<matplotlib.legend.Legend at 0x7fe73d3cec50>"
            ]
          },
          "metadata": {
            "tags": []
          },
          "execution_count": 148
        },
        {
          "output_type": "display_data",
          "data": {
            "image/png": "[encoded data removed]",
            "text/plain": [
              "<Figure size 1440x720 with 1 Axes>"
            ]
          },
          "metadata": {
            "tags": [],
            "needs_background": "light"
          }
        }
      ]
    },
    {
      "cell_type": "code",
      "metadata": {
        "id": "6hf4rMbCG218"
      },
      "source": [
        ""
      ],
      "execution_count": null,
      "outputs": []
    }
  ]
}